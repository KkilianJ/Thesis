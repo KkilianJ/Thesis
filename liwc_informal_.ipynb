{
  "cells": [
    {
      "cell_type": "markdown",
      "metadata": {
        "id": "view-in-github",
        "colab_type": "text"
      },
      "source": [
        "<a href=\"https://colab.research.google.com/github/KkilianJ/Thesis/blob/main/liwc_informal_.ipynb\" target=\"_parent\"><img src=\"https://colab.research.google.com/assets/colab-badge.svg\" alt=\"Open In Colab\"/></a>"
      ]
    },
    {
      "cell_type": "code",
      "execution_count": null,
      "metadata": {
        "colab": {
          "background_save": true
        },
        "id": "vp76ogMRMQnN",
        "outputId": "3fe1fb14-42ed-4534-d586-2f61a8df7130"
      },
      "outputs": [
        {
          "name": "stdout",
          "output_type": "stream",
          "text": [
            "Drive already mounted at /content/drive; to attempt to forcibly remount, call drive.mount(\"/content/drive\", force_remount=True).\n"
          ]
        }
      ],
      "source": [
        "from google.colab import drive\n",
        "drive.mount('/content/drive')"
      ]
    },
    {
      "cell_type": "code",
      "execution_count": null,
      "metadata": {
        "id": "KBEW2stGj0-o"
      },
      "outputs": [],
      "source": [
        "import pandas as pd\n",
        "df_short = pd.read_csv('/content/drive/MyDrive/Thesis/LIWC-22 Results - short_text_with_pos_text1 - LIWC Analysis.csv', low_memory=False)\n",
        "df_long = pd.read_csv('/content/drive/MyDrive/Thesis/LIWC-22 Results - long_text_with_pos_text1 - LIWC Analysis (1).csv', low_memory=False)"
      ]
    },
    {
      "cell_type": "code",
      "execution_count": null,
      "metadata": {
        "colab": {
          "base_uri": "https://localhost:8080/"
        },
        "id": "9WGKBwrZkyLl",
        "outputId": "3f95c1ee-6030-4353-d75b-9f48089ecca9"
      },
      "outputs": [
        {
          "name": "stdout",
          "output_type": "stream",
          "text": [
            "T-stat: 213.50, p-value: 0.0000\n"
          ]
        }
      ],
      "source": [
        "df_short['informal_composite'] = (\n",
        "    df_short['netspeak'] +\n",
        "    df_short['swear'] +\n",
        "    df_short['filler'] +\n",
        "    df_short['nonflu'] +\n",
        "    df_short['assent']\n",
        ")\n",
        "df_long['informal_composite'] = (\n",
        "    df_long['netspeak'] +\n",
        "    df_long['swear'] +\n",
        "    df_long['filler'] +\n",
        "    df_long['nonflu'] +\n",
        "    df_long['assent']\n",
        ")\n"
      ]
    },
    {
      "cell_type": "code",
      "execution_count": null,
      "metadata": {
        "id": "01bQj7w_-UWX"
      },
      "outputs": [],
      "source": [
        "import matplotlib.pyplot as plt\n",
        "import pandas as pd\n",
        "\n",
        "df_all = pd.concat([df_short, df_long], ignore_index=True)\n",
        "df_all = df_all[df_all['char_count'] > 0]\n",
        "\n",
        "df_all['swear_per_char'] = df_all['swear'] / df_all['char_count']\n",
        "grouped = df_all.groupby('char_count')['swear_per_char'].mean().reset_index()\n",
        "grouped = grouped.sort_values('char_count')\n",
        "plt.figure(figsize=(10, 6))\n",
        "plt.plot(grouped['char_count'], grouped['swear_per_char'], linewidth=1.5)\n",
        "plt.xlabel('Character Count')\n",
        "plt.ylabel('Mean Swear Word Proportion per Character')\n",
        "plt.title('Swear Word Proportion by Tweet Character Length')\n",
        "plt.grid(True, linestyle='--', alpha=0.6)\n",
        "plt.tight_layout()\n",
        "plt.show()"
      ]
    },
    {
      "cell_type": "code",
      "execution_count": null,
      "metadata": {
        "colab": {
          "base_uri": "https://localhost:8080/"
        },
        "id": "e4wgATfg9Vd7",
        "outputId": "87774bce-870d-4ce8-e910-22dff17a8e97"
      },
      "outputs": [
        {
          "name": "stdout",
          "output_type": "stream",
          "text": [
            "count    2.999944e+06\n",
            "mean     1.916244e+00\n",
            "std      7.035955e+00\n",
            "min      0.000000e+00\n",
            "25%      0.000000e+00\n",
            "50%      0.000000e+00\n",
            "75%      0.000000e+00\n",
            "max      2.000000e+02\n",
            "Name: informal_composite, dtype: float64\n",
            "count    2.999908e+06\n",
            "mean     9.969401e-01\n",
            "std      2.473361e+00\n",
            "min      0.000000e+00\n",
            "25%      0.000000e+00\n",
            "50%      0.000000e+00\n",
            "75%      1.920000e+00\n",
            "max      2.000000e+02\n",
            "Name: informal_composite, dtype: float64\n"
          ]
        }
      ],
      "source": [
        "print(short.describe())\n",
        "print(long.describe())"
      ]
    },
    {
      "cell_type": "code",
      "execution_count": null,
      "metadata": {
        "colab": {
          "base_uri": "https://localhost:8080/"
        },
        "id": "Hr2FLuuynk0Z",
        "outputId": "b710a6b7-c6a7-49f4-aa4d-feb347ee06e7"
      },
      "outputs": [
        {
          "name": "stdout",
          "output_type": "stream",
          "text": [
            "         netspeak  swear  filler  nonflu  assent\n",
            "0             0.0    0.0     0.0     0.0     0.0\n",
            "1             0.0    0.0     0.0     0.0     0.0\n",
            "2             0.0    0.0     0.0     0.0     0.0\n",
            "3             0.0    0.0     0.0     0.0     0.0\n",
            "4             0.0    0.0     0.0     0.0     0.0\n",
            "...           ...    ...     ...     ...     ...\n",
            "2999908       0.0    0.0     0.0     0.0     0.0\n",
            "2999909       0.0    0.0     0.0     0.0     0.0\n",
            "2999910       0.0    0.0     0.0     0.0     0.0\n",
            "2999911       0.0    0.0     0.0     0.0     0.0\n",
            "2999912       0.0    0.0     0.0     0.0     0.0\n",
            "\n",
            "[2999913 rows x 5 columns]\n"
          ]
        }
      ],
      "source": [
        "print(df_long[['netspeak', 'swear', 'filler', 'nonflu', 'assent']])"
      ]
    },
    {
      "cell_type": "code",
      "execution_count": null,
      "metadata": {
        "colab": {
          "base_uri": "https://localhost:8080/"
        },
        "id": "U8wu66u1noIH",
        "outputId": "c67ecbb8-ad8d-467b-84be-7ad789aceb7b"
      },
      "outputs": [
        {
          "name": "stdout",
          "output_type": "stream",
          "text": [
            "netspeak    float64\n",
            "swear       float64\n",
            "filler      float64\n",
            "nonflu      float64\n",
            "assent      float64\n",
            "dtype: object\n",
            "netspeak    float64\n",
            "swear       float64\n",
            "filler      float64\n",
            "nonflu      float64\n",
            "assent      float64\n",
            "dtype: object\n"
          ]
        }
      ],
      "source": [
        "print(df_short[['netspeak', 'swear', 'filler', 'nonflu', 'assent']].dtypes)\n",
        "print(df_long[['netspeak', 'swear', 'filler', 'nonflu', 'assent']].dtypes)\n"
      ]
    },
    {
      "cell_type": "code",
      "execution_count": null,
      "metadata": {
        "colab": {
          "base_uri": "https://localhost:8080/"
        },
        "id": "G70n48I6d9v5",
        "outputId": "197127db-d4c1-448a-90ec-78f91171564a"
      },
      "outputs": [
        {
          "name": "stdout",
          "output_type": "stream",
          "text": [
            "T-statistic: 151.495\n",
            "P-value: 0.0000\n",
            "Short Tweets: Mean = 0.614, SD = 3.471\n",
            "Long Tweets: Mean = 0.294, SD = 1.148\n",
            "Cohen's d: 0.124\n"
          ]
        }
      ],
      "source": [
        "from scipy.stats import ttest_ind\n",
        "import numpy as np\n",
        "short = df_short['swear']\n",
        "long = df_long['swear']\n",
        "short = short.dropna()\n",
        "long = long.dropna()\n",
        "t_stat, p_val = ttest_ind(short, long, equal_var=False)\n",
        "\n",
        "mean_short = short.mean()\n",
        "std_short = short.std()\n",
        "mean_long = long.mean()\n",
        "std_long = long.std()\n",
        "\n",
        "mean_diff = mean_short - mean_long\n",
        "pooled_std = np.sqrt((std_short ** 2 + std_long ** 2) / 2)\n",
        "cohens_d = mean_diff / pooled_std\n",
        "\n",
        "print(f\"T-statistic: {t_stat:.3f}\")\n",
        "print(f\"P-value: {p_val:.4f}\")\n",
        "print(f\"Short Tweets: Mean = {mean_short:.3f}, SD = {std_short:.3f}\")\n",
        "print(f\"Long Tweets: Mean = {mean_long:.3f}, SD = {std_long:.3f}\")\n",
        "print(f\"Cohen's d: {cohens_d:.3f}\")"
      ]
    },
    {
      "cell_type": "code",
      "execution_count": null,
      "metadata": {
        "colab": {
          "base_uri": "https://localhost:8080/"
        },
        "id": "EpzQRhin_ax4",
        "outputId": "3159e8a5-efc9-4741-90d2-94f49a67dd72"
      },
      "outputs": [
        {
          "name": "stdout",
          "output_type": "stream",
          "text": [
            "Collecting statsmodels\n",
            "  Downloading statsmodels-0.14.4-cp311-cp311-manylinux_2_17_x86_64.manylinux2014_x86_64.whl.metadata (9.2 kB)\n",
            "Requirement already satisfied: numpy<3,>=1.22.3 in /usr/local/lib/python3.11/dist-packages (from statsmodels) (2.0.2)\n",
            "Requirement already satisfied: scipy!=1.9.2,>=1.8 in /usr/local/lib/python3.11/dist-packages (from statsmodels) (1.15.3)\n",
            "Requirement already satisfied: pandas!=2.1.0,>=1.4 in /usr/local/lib/python3.11/dist-packages (from statsmodels) (2.2.2)\n",
            "Collecting patsy>=0.5.6 (from statsmodels)\n",
            "  Downloading patsy-1.0.1-py2.py3-none-any.whl.metadata (3.3 kB)\n",
            "Requirement already satisfied: packaging>=21.3 in /usr/local/lib/python3.11/dist-packages (from statsmodels) (25.0)\n",
            "Requirement already satisfied: python-dateutil>=2.8.2 in /usr/local/lib/python3.11/dist-packages (from pandas!=2.1.0,>=1.4->statsmodels) (2.9.0.post0)\n",
            "Requirement already satisfied: pytz>=2020.1 in /usr/local/lib/python3.11/dist-packages (from pandas!=2.1.0,>=1.4->statsmodels) (2025.2)\n",
            "Requirement already satisfied: tzdata>=2022.7 in /usr/local/lib/python3.11/dist-packages (from pandas!=2.1.0,>=1.4->statsmodels) (2025.2)\n",
            "Requirement already satisfied: six>=1.5 in /usr/local/lib/python3.11/dist-packages (from python-dateutil>=2.8.2->pandas!=2.1.0,>=1.4->statsmodels) (1.17.0)\n",
            "Downloading statsmodels-0.14.4-cp311-cp311-manylinux_2_17_x86_64.manylinux2014_x86_64.whl (10.8 MB)\n",
            "\u001b[?25l   \u001b[90m━━━━━━━━━━━━━━━━━━━━━━━━━━━━━━━━━━━━━━━━\u001b[0m \u001b[32m0.0/10.8 MB\u001b[0m \u001b[31m?\u001b[0m eta \u001b[36m-:--:--\u001b[0m\r\u001b[2K   \u001b[91m━━━━━━━━━━━━━━━━━━━\u001b[0m\u001b[90m╺\u001b[0m\u001b[90m━━━━━━━━━━━━━━━━━━━━\u001b[0m \u001b[32m5.2/10.8 MB\u001b[0m \u001b[31m156.9 MB/s\u001b[0m eta \u001b[36m0:00:01\u001b[0m\r\u001b[2K   \u001b[91m━━━━━━━━━━━━━━━━━━━━━━━━━━━━━━━━━━━━━━━\u001b[0m\u001b[91m╸\u001b[0m \u001b[32m10.8/10.8 MB\u001b[0m \u001b[31m270.6 MB/s\u001b[0m eta \u001b[36m0:00:01\u001b[0m\r\u001b[2K   \u001b[90m━━━━━━━━━━━━━━━━━━━━━━━━━━━━━━━━━━━━━━━━\u001b[0m \u001b[32m10.8/10.8 MB\u001b[0m \u001b[31m175.6 MB/s\u001b[0m eta \u001b[36m0:00:00\u001b[0m\n",
            "\u001b[?25hDownloading patsy-1.0.1-py2.py3-none-any.whl (232 kB)\n",
            "\u001b[?25l   \u001b[90m━━━━━━━━━━━━━━━━━━━━━━━━━━━━━━━━━━━━━━━━\u001b[0m \u001b[32m0.0/232.9 kB\u001b[0m \u001b[31m?\u001b[0m eta \u001b[36m-:--:--\u001b[0m\r\u001b[2K   \u001b[90m━━━━━━━━━━━━━━━━━━━━━━━━━━━━━━━━━━━━━━━━\u001b[0m \u001b[32m232.9/232.9 kB\u001b[0m \u001b[31m25.4 MB/s\u001b[0m eta \u001b[36m0:00:00\u001b[0m\n",
            "\u001b[?25hInstalling collected packages: patsy, statsmodels\n",
            "Successfully installed patsy-1.0.1 statsmodels-0.14.4\n"
          ]
        }
      ],
      "source": [
        "!pip install statsmodels\n"
      ]
    },
    {
      "cell_type": "code",
      "execution_count": null,
      "metadata": {
        "colab": {
          "base_uri": "https://localhost:8080/"
        },
        "id": "zPfSgzR1_Cj4",
        "outputId": "90a80c49-5cea-4e20-f207-f34ea713f8ff"
      },
      "outputs": [
        {
          "name": "stdout",
          "output_type": "stream",
          "text": [
            "                            OLS Regression Results                            \n",
            "==============================================================================\n",
            "Dep. Variable:     informal_composite   R-squared:                       0.012\n",
            "Model:                            OLS   Adj. R-squared:                  0.012\n",
            "Method:                 Least Squares   F-statistic:                 7.057e+04\n",
            "Date:                Sun, 29 Jun 2025   Prob (F-statistic):               0.00\n",
            "Time:                        00:03:26   Log-Likelihood:            -1.8477e+07\n",
            "No. Observations:             5999852   AIC:                         3.695e+07\n",
            "Df Residuals:                 5999850   BIC:                         3.695e+07\n",
            "Df Model:                           1                                         \n",
            "Covariance Type:            nonrobust                                         \n",
            "==============================================================================\n",
            "                 coef    std err          t      P>|t|      [0.025      0.975]\n",
            "------------------------------------------------------------------------------\n",
            "Intercept      2.5447      0.005    550.155      0.000       2.536       2.554\n",
            "char_count    -0.0048   1.82e-05   -265.646      0.000      -0.005      -0.005\n",
            "==============================================================================\n",
            "Omnibus:                 10494263.771   Durbin-Watson:                   2.001\n",
            "Prob(Omnibus):                  0.000   Jarque-Bera (JB):      18244973121.270\n",
            "Skew:                          12.310   Prob(JB):                         0.00\n",
            "Kurtosis:                     272.027   Cond. No.                         547.\n",
            "==============================================================================\n",
            "\n",
            "Notes:\n",
            "[1] Standard Errors assume that the covariance matrix of the errors is correctly specified.\n",
            "Correlation between Character Count and Informal Composite: -0.108\n"
          ]
        }
      ],
      "source": [
        "df_all = pd.concat([df_short, df_long], ignore_index=True)\n",
        "\n",
        "import statsmodels.formula.api as smf\n",
        "\n",
        "model = smf.ols('informal_composite ~ char_count', data=df_all).fit()\n",
        "print(model.summary())\n",
        "\n",
        "corr = df_all['char_count'].corr(df_all['informal_composite'])\n",
        "print(f\"Correlation between Character Count and Informal Composite: {corr:.3f}\")\n"
      ]
    }
  ],
  "metadata": {
    "accelerator": "TPU",
    "colab": {
      "gpuType": "V6E1",
      "machine_shape": "hm",
      "provenance": [],
      "mount_file_id": "1Ecid2MX-Ml4iF4k5_9SlpagFXybuV5Ia",
      "authorship_tag": "ABX9TyMPe45y4K4xfgytmjRmsA7l",
      "include_colab_link": true
    },
    "kernelspec": {
      "display_name": "Python 3",
      "name": "python3"
    },
    "language_info": {
      "name": "python"
    }
  },
  "nbformat": 4,
  "nbformat_minor": 0
}