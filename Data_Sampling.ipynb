{
  "nbformat": 4,
  "nbformat_minor": 0,
  "metadata": {
    "colab": {
      "provenance": [],
      "machine_shape": "hm",
      "gpuType": "A100",
      "mount_file_id": "1Dl6AvPm7mCMn8ICr3vEPq4CkzffAhdBM",
      "authorship_tag": "ABX9TyPKmgf2QUUTbrc4wMoL/PUE",
      "include_colab_link": true
    },
    "kernelspec": {
      "name": "python3",
      "display_name": "Python 3"
    },
    "language_info": {
      "name": "python"
    },
    "accelerator": "GPU"
  },
  "cells": [
    {
      "cell_type": "markdown",
      "metadata": {
        "id": "view-in-github",
        "colab_type": "text"
      },
      "source": [
        "<a href=\"https://colab.research.google.com/github/KkilianJ/Thesis/blob/main/Data_Sampling.ipynb\" target=\"_parent\"><img src=\"https://colab.research.google.com/assets/colab-badge.svg\" alt=\"Open In Colab\"/></a>"
      ]
    },
    {
      "cell_type": "code",
      "source": [
        "from google.colab import drive\n",
        "drive.mount('/content/drive')"
      ],
      "metadata": {
        "colab": {
          "base_uri": "https://localhost:8080/"
        },
        "id": "HN-N5y0ynid9",
        "outputId": "68d9c322-45db-4de8-a16c-254763fd987c"
      },
      "execution_count": 1,
      "outputs": [
        {
          "output_type": "stream",
          "name": "stdout",
          "text": [
            "Drive already mounted at /content/drive; to attempt to forcibly remount, call drive.mount(\"/content/drive\", force_remount=True).\n"
          ]
        }
      ]
    },
    {
      "cell_type": "code",
      "source": [
        "import pandas as pd\n",
        "\n",
        "input_file = \"/content/drive/MyDrive/Thesis/long_text.csv\"\n",
        "output_file = \"/content/drive/MyDrive/Thesis/long_text_sample.csv\"\n",
        "\n",
        "sample_size = 3000000\n",
        "random_seed = 42\n",
        "\n",
        "df_long = pd.read_csv(input_file, low_memory = False)\n",
        "\n",
        "sampled_df = df_long.sample(n=sample_size, random_state=random_seed)\n",
        "\n",
        "sampled_df.to_csv(output_file, index=False)\n",
        "\n",
        "print(f\"Finished{output_file}\")\n",
        "\n",
        "input_file_1 = \"/content/drive/MyDrive/Thesis/short_text.csv\"\n",
        "output_file_1 = \"/content/drive/MyDrive/Thesis/short_text_sample.csv\"\n",
        "\n",
        "df_short = pd.read_csv(input_file_1, low_memory = False)\n",
        "\n",
        "sampled_df1 = df_short.sample(n=sample_size, random_state=random_seed)\n",
        "\n",
        "sampled_df1.to_csv(output_file_1, index=False)\n",
        "\n",
        "print(f\"Finished{output_file}\")"
      ],
      "metadata": {
        "colab": {
          "base_uri": "https://localhost:8080/"
        },
        "id": "CfrKmztLlAwd",
        "outputId": "ec6b457c-83ad-41e3-d860-de3c033c7814"
      },
      "execution_count": 3,
      "outputs": [
        {
          "output_type": "stream",
          "name": "stdout",
          "text": [
            "Finished/content/drive/MyDrive/Thesis/long_text_sample.csv\n",
            "Finished/content/drive/MyDrive/Thesis/long_text_sample.csv\n"
          ]
        }
      ]
    },
    {
      "cell_type": "code",
      "source": [
        "print(len(sampled_df1))\n",
        "print(sampled_df.head())\n",
        "print(len(sampled_df))\n",
        "print(sampled_df1.head())"
      ],
      "metadata": {
        "colab": {
          "base_uri": "https://localhost:8080/"
        },
        "id": "ScEIXLGSriCf",
        "outputId": "62535111-e533-4f41-84ac-6eed952966a2"
      },
      "execution_count": 5,
      "outputs": [
        {
          "output_type": "stream",
          "name": "stdout",
          "text": [
            "3000000\n",
            "                                                      text  viewCount  \\\n",
            "2232820  @CynCity1243 @MikeRoy_Cit12 @GastricpH Likewis...       49.0   \n",
            "1660192  @Megatron_ron France should take in Lebanese r...       84.0   \n",
            "2896865  @TiltingNBA @majornija @nicole_naiya Heard thi...        4.0   \n",
            "3325148  Guys.\\n\\nDonald Trump is quite literally the l...      159.0   \n",
            "2887931  @realDonaldTrump The American people have endu...     2274.0   \n",
            "\n",
            "         likeCount  quoteCount  replyCount  retweetCount  char_count  \n",
            "2232820        0.0         0.0         1.0           0.0         320  \n",
            "1660192        1.0         0.0         0.0           0.0         283  \n",
            "2896865        0.0         0.0         0.0           0.0         338  \n",
            "3325148        6.0         0.0         0.0           3.0         303  \n",
            "2887931       74.0         3.0         3.0          24.0         318  \n",
            "3000000\n",
            "                                                       text  viewCount  \\\n",
            "6101389   @GOP @SheehyforMT Interesting perspective! But...        3.0   \n",
            "6547259   @co_rapunzel4 @MSNBC @nbc @CBS @ABC @CNN I hav...       16.0   \n",
            "27644403  @Mayor_Steinberg I want to share my blood and ...       81.0   \n",
            "17536845  @ErrataRob @GeorgeOu Correct, the gop makes it...       36.0   \n",
            "219600    @BidensWins Are you going to change your Twitt...        3.0   \n",
            "\n",
            "          likeCount  quoteCount  replyCount  retweetCount  char_count  \n",
            "6101389         0.0         0.0         0.0           0.0         238  \n",
            "6547259         0.0         0.0         0.0           0.0         132  \n",
            "27644403        0.0         0.0         0.0           0.0         276  \n",
            "17536845        0.0         0.0         0.0           0.0          95  \n",
            "219600          0.0         0.0         0.0           0.0          95  \n"
          ]
        }
      ]
    }
  ]
}