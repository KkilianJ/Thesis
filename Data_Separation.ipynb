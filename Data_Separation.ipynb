{
  "cells": [
    {
      "cell_type": "markdown",
      "metadata": {
        "id": "view-in-github",
        "colab_type": "text"
      },
      "source": [
        "<a href=\"https://colab.research.google.com/github/KkilianJ/Thesis/blob/main/Data_Separation.ipynb\" target=\"_parent\"><img src=\"https://colab.research.google.com/assets/colab-badge.svg\" alt=\"Open In Colab\"/></a>"
      ]
    },
    {
      "cell_type": "code",
      "execution_count": 19,
      "metadata": {
        "colab": {
          "base_uri": "https://localhost:8080/"
        },
        "id": "I0I8XVKEU2km",
        "outputId": "356b4715-3e36-43b3-cb3f-d0c8d30cd57f"
      },
      "outputs": [
        {
          "output_type": "stream",
          "name": "stdout",
          "text": [
            "Requirement already satisfied: twitter-text-parser in /usr/local/lib/python3.11/dist-packages (3.0.0)\n"
          ]
        }
      ],
      "source": [
        "!pip3 install twitter-text-parser"
      ]
    },
    {
      "cell_type": "code",
      "execution_count": 20,
      "metadata": {
        "colab": {
          "base_uri": "https://localhost:8080/"
        },
        "id": "hESfaOLxWQtC",
        "outputId": "59b6df44-89fe-4416-ece1-1d98dbbe23fa"
      },
      "outputs": [
        {
          "output_type": "stream",
          "name": "stdout",
          "text": [
            "Drive already mounted at /content/drive; to attempt to forcibly remount, call drive.mount(\"/content/drive\", force_remount=True).\n"
          ]
        }
      ],
      "source": [
        "from google.colab import drive\n",
        "drive.mount('/content/drive')"
      ]
    },
    {
      "cell_type": "code",
      "execution_count": 21,
      "metadata": {
        "colab": {
          "base_uri": "https://localhost:8080/"
        },
        "id": "MX2LEHF8FZA6",
        "outputId": "f6afbfd0-40b8-4df6-87f2-3139a6bf759a"
      },
      "outputs": [
        {
          "output_type": "stream",
          "name": "stdout",
          "text": [
            "Requirement already satisfied: tqdm in /usr/local/lib/python3.11/dist-packages (4.67.1)\n"
          ]
        }
      ],
      "source": [
        "!pip install tqdm\n"
      ]
    },
    {
      "cell_type": "code",
      "source": [
        "import pandas as pd\n",
        "from joblib import Parallel, delayed\n",
        "import twitter_text\n",
        "from tqdm import tqdm\n",
        "\n",
        "def get_char_count(text):\n",
        "  return twitter_text.parse_tweet(text).weightedLength\n",
        "\n",
        "def main():\n",
        "    file_path = '/content/drive/MyDrive/Thesis/output_tweets.csv'\n",
        "    short_output = '/content/drive/MyDrive/Thesis/short_text.csv'\n",
        "    long_output = '/content/drive/MyDrive/Thesis/long_text.csv'\n",
        "\n",
        "    df = pd.read_csv(file_path,low_memory=False)\n",
        "    print(f\"total:{len(df)} rows.\")\n",
        "\n",
        "    texts = df['text'].astype(str).tolist()\n",
        "    char_counts = Parallel(n_jobs=12)(delayed(get_char_count)(text) for text in tqdm(texts))\n",
        "    df['char_count'] = char_counts\n",
        "    df.to_csv(file_path, index=False)\n",
        "\n",
        "    short_df = df[df['char_count'] <= 280]\n",
        "    long_df = df[df['char_count'] > 280]\n",
        "    short_df.to_csv(short_output, index=False)\n",
        "    long_df.to_csv(long_output, index=False)\n",
        "\n",
        "    print(f\"short_text: {len(short_df)} rows\")\n",
        "    print(f\"long_text: {len(long_df)} rows\")\n",
        "\n",
        "main()\n"
      ],
      "metadata": {
        "colab": {
          "base_uri": "https://localhost:8080/"
        },
        "id": "1sbtSidT96af",
        "outputId": "be84ad3f-8a7a-466b-c7ed-10a0354336cd"
      },
      "execution_count": 30,
      "outputs": [
        {
          "output_type": "stream",
          "name": "stdout",
          "text": [
            "total:31599856 rows.\n"
          ]
        },
        {
          "output_type": "stream",
          "name": "stderr",
          "text": [
            "100%|██████████| 31599856/31599856 [1:30:36<00:00, 5812.89it/s]\n"
          ]
        },
        {
          "output_type": "stream",
          "name": "stdout",
          "text": [
            "short_text: 27772527 rows\n",
            "long_text: 3827329 rows\n"
          ]
        }
      ]
    }
  ],
  "metadata": {
    "accelerator": "GPU",
    "colab": {
      "gpuType": "A100",
      "machine_shape": "hm",
      "provenance": [],
      "mount_file_id": "1Tjh7rAx9otb707RtYD0ITLwU7dxg0YMh",
      "authorship_tag": "ABX9TyPm5lChJH5EQnvz6qywqU9z",
      "include_colab_link": true
    },
    "kernelspec": {
      "display_name": "Python 3",
      "name": "python3"
    },
    "language_info": {
      "name": "python"
    }
  },
  "nbformat": 4,
  "nbformat_minor": 0
}