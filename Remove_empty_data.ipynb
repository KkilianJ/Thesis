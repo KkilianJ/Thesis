{
  "nbformat": 4,
  "nbformat_minor": 0,
  "metadata": {
    "colab": {
      "provenance": [],
      "machine_shape": "hm",
      "gpuType": "A100",
      "authorship_tag": "ABX9TyMnKhNZS40AhSSPEOjabkq4"
    },
    "kernelspec": {
      "name": "python3",
      "display_name": "Python 3"
    },
    "language_info": {
      "name": "python"
    },
    "accelerator": "GPU"
  },
  "cells": [
    {
      "cell_type": "code",
      "execution_count": 1,
      "metadata": {
        "id": "gG1mi_lzCu1Z",
        "colab": {
          "base_uri": "https://localhost:8080/"
        },
        "outputId": "889d4adb-de4d-4541-9d2d-571fc55c5602"
      },
      "outputs": [
        {
          "output_type": "stream",
          "name": "stdout",
          "text": [
            "Mounted at /content/drive\n"
          ]
        }
      ],
      "source": [
        "from google.colab import drive\n",
        "drive.mount('/content/drive')\n",
        "file_path = '/content/drive/MyDrive/Thesis/output_tweets.csv'\n",
        "import pandas as pd\n",
        "df = pd.read_csv(file_path, low_memory=False)\n",
        "df_cleaned = df.dropna()\n",
        "df_cleaned.to_csv(file_path, index=False)"
      ]
    },
    {
      "cell_type": "code",
      "source": [
        "print(df_cleaned.head(20))"
      ],
      "metadata": {
        "colab": {
          "base_uri": "https://localhost:8080/"
        },
        "id": "4st5QfOtEtGc",
        "outputId": "39f5108c-4b87-4851-f5d9-10fcbdbf1e90"
      },
      "execution_count": 3,
      "outputs": [
        {
          "output_type": "stream",
          "name": "stdout",
          "text": [
            "                                                 text  viewCount  likeCount  \\\n",
            "0               What up?   @AZGOP @LaraLeeTrump  @GOP       15.0        0.0   \n",
            "1   @BidensWins Trump is going to mopp the floor w...       13.0        0.0   \n",
            "2   @LarrySchweikart She wants Harris/Biden off th...       51.0        0.0   \n",
            "3   @urbanmyths @JoeBiden \"The voters are standing...       19.0        1.0   \n",
            "4   To be fair, Biden doesn't trail off here like ...       52.0        0.0   \n",
            "5   Liberals: We had a primary, we nominated Joe B...     4579.0      153.0   \n",
            "6   @robreiner Joe Biden stepping down cannot be a...        6.0        2.0   \n",
            "7   @charliekirk11 I guess thats how biden helps b...        3.0        0.0   \n",
            "8   @stanwiz7 @JohnFugelsang You weren’t alive bac...       35.0        0.0   \n",
            "9   @bluepolitics_ @ForecasterEnten BIDEN VOTERS R...       22.0        0.0   \n",
            "10  @jmart272 @34convictions @SteveLovesAmmo If As...       54.0        5.0   \n",
            "11  @Landofillusion1 @BrewerDevlyn @JohnFugelsang ...       95.0        8.0   \n",
            "12  @politvidchannel Fee why don't u reveal that t...       10.0        0.0   \n",
            "13  @harryjsisson Trump talks. Biden tries to read...        7.0        0.0   \n",
            "14  @TheLeoTerrell Pencil neck. Trump took Cogniti...        3.0        0.0   \n",
            "15  @Morning_Joe \\nHi Joe and Mica,\\nTell the peop...        3.0        0.0   \n",
            "16  @OliviaTroye And yet the fact remains that Joe...        3.0        0.0   \n",
            "17  @CNN's kissing up to the Biden cause it's not ...        4.0        0.0   \n",
            "18  @foxnewspolitics While the REST of America kne...        2.0        0.0   \n",
            "19  @BeschlossDC @Morning_Joe @MSNBC First of all,...       22.0        0.0   \n",
            "\n",
            "    quoteCount  replyCount  retweetCount  \n",
            "0          0.0         0.0           0.0  \n",
            "1          0.0         0.0           0.0  \n",
            "2          0.0         0.0           0.0  \n",
            "3          0.0         0.0           0.0  \n",
            "4          0.0         0.0           0.0  \n",
            "5          1.0         4.0          22.0  \n",
            "6          0.0         0.0           0.0  \n",
            "7          0.0         0.0           0.0  \n",
            "8          0.0         1.0           0.0  \n",
            "9          0.0         0.0           0.0  \n",
            "10         0.0         0.0           0.0  \n",
            "11         0.0         0.0           0.0  \n",
            "12         0.0         0.0           0.0  \n",
            "13         0.0         0.0           0.0  \n",
            "14         0.0         0.0           0.0  \n",
            "15         0.0         0.0           0.0  \n",
            "16         0.0         0.0           0.0  \n",
            "17         0.0         0.0           0.0  \n",
            "18         0.0         0.0           0.0  \n",
            "19         0.0         0.0           0.0  \n"
          ]
        }
      ]
    },
    {
      "cell_type": "code",
      "source": [
        "before = len(df)\n",
        "print(f\"Number of rows before cleaning: {before}\")\n",
        "after = len(df_cleaned)\n",
        "print(f\"Number of rows after cleaning: {after}\")\n",
        "missing = before - after\n",
        "print(f\"Number of missing values: {missing}\")"
      ],
      "metadata": {
        "colab": {
          "base_uri": "https://localhost:8080/"
        },
        "id": "67ikK4naHh6c",
        "outputId": "3edac9e7-8191-495f-9eb0-106d2f9a2948"
      },
      "execution_count": 5,
      "outputs": [
        {
          "output_type": "stream",
          "name": "stdout",
          "text": [
            "Number of rows before cleaning: 36780929\n",
            "Number of rows after cleaning: 31599856\n",
            "Number of missing values: 5181073\n"
          ]
        }
      ]
    }
  ]
}