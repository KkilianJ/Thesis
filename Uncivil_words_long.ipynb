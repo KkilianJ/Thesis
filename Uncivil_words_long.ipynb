{
  "nbformat": 4,
  "nbformat_minor": 0,
  "metadata": {
    "colab": {
      "provenance": [],
      "machine_shape": "hm",
      "gpuType": "V6E1",
      "authorship_tag": "ABX9TyMRS190hpRBuSXdDBcxF3JD"
    },
    "kernelspec": {
      "name": "python3",
      "display_name": "Python 3"
    },
    "language_info": {
      "name": "python"
    },
    "accelerator": "TPU"
  },
  "cells": [
    {
      "cell_type": "code",
      "execution_count": null,
      "metadata": {
        "colab": {
          "base_uri": "https://localhost:8080/"
        },
        "id": "rUcIHMIu0fqu",
        "outputId": "0c93f311-39e3-494d-b46e-888711d56bd6"
      },
      "outputs": [
        {
          "output_type": "stream",
          "name": "stdout",
          "text": [
            "Mounted at /content/drive\n",
            "2999909\n"
          ]
        }
      ],
      "source": [
        "import pandas as pd\n",
        "from google.colab import drive\n",
        "drive.mount('/content/drive')\n",
        "df = pd.read_csv('/content/drive/MyDrive/Thesis/long_text_with_pos_text.csv', low_memory = False)\n",
        "text_long = df['bigram_text'].tolist()\n",
        "print(len(text_long))"
      ]
    },
    {
      "cell_type": "code",
      "source": [
        "import pandas as pd\n",
        "import spacy\n",
        "import re\n",
        "from joblib import Parallel, delayed\n",
        "from tqdm import tqdm\n",
        "\n",
        "\n",
        "def process_tweet(text):\n",
        "    nlp = spacy.load(\"en_core_web_sm\")\n",
        "\n",
        "    uncivil_words = {\"dumb\", \"farc\", \"hypocrit\", \"insan\", \"insecur\", \"irrespons\", \"sham\", \"trivial\", \"unaccept\", \"uneth\", \"unfair\",\n",
        "                 \"bigot\", \"bigotri\", \"discrimin\", \"prejudic\", \"racism\", \"racist\", \"segreg\", \"stereotyp\", \"betray\", \"enemi\",\n",
        "                 \"insurg\", \"overthrow\", \"riot\", \"threat\", \"threaten\", \"traitor\", \"treason\", \"tyranni\", \"brainwash\", \"deceiv\",\n",
        "                 \"decept\", \"dishonest\", \"disingenu\", \"inaccur\", \"incorrect\", \"misinform\", \"mislead\", \"uninform\", \"dysfunct\",\n",
        "                 \"infring\", \"obstruct\", \"obstructionist\", \"suppress\", \"unconstitut\", \"chao\", \"debacl\", \"delud\", \"demean\",\n",
        "                 \"disrespect\", \"fiasco\", \"inappropri\", \"nasti\", \"vitriol\", \"yell\"}\n",
        "\n",
        "\n",
        "    doc = nlp(text)\n",
        "    lemmas = [token.lemma_.lower() for token in doc if not token.is_space]\n",
        "    if not lemmas:\n",
        "        return 0.0\n",
        "    count = sum(1 for lemma in lemmas if any(lemma.startswith(w) for w in uncivil_words))\n",
        "    return round(count / len(lemmas), 4)\n",
        "\n",
        "\n",
        "results = Parallel(n_jobs=42)(\n",
        "    delayed(process_tweet)(text) for text in tqdm(text_long, desc=\"Lemmatizing + Scoring\")\n",
        ")\n",
        "\n",
        "df[\"uncivil_score\"] = results\n",
        "df.to_csv(\"/content/drive/MyDrive/Thesis/long_text_with_pos_text.csv\", index=False)"
      ],
      "metadata": {
        "colab": {
          "base_uri": "https://localhost:8080/"
        },
        "id": "AAZBTXMD09AP",
        "outputId": "09d6f117-d72c-4ce3-de5d-56b7f64f6e78"
      },
      "execution_count": null,
      "outputs": [
        {
          "output_type": "stream",
          "name": "stderr",
          "text": [
            "Lemmatizing + Scoring: 100%|██████████| 2999909/2999909 [9:05:45<00:00, 91.61it/s]\n"
          ]
        }
      ]
    },
    {
      "cell_type": "code",
      "source": [
        "df_long = pd.read_csv(\"/content/drive/MyDrive/Thesis/long_text_with_pos_text.csv\", low_memory = False)\n",
        "print(df_long.head())"
      ],
      "metadata": {
        "colab": {
          "base_uri": "https://localhost:8080/"
        },
        "id": "rNIANMSo2kcT",
        "outputId": "f6249f02-6cc2-416a-fde5-6b95ccd5b11c"
      },
      "execution_count": null,
      "outputs": [
        {
          "output_type": "stream",
          "name": "stdout",
          "text": [
            "                                                text  viewCount  likeCount  \\\n",
            "0  @CynCity1243 @MikeRoy_Cit12 @GastricpH Likewis...       49.0        0.0   \n",
            "1  @Megatron_ron France should take in Lebanese r...       84.0        1.0   \n",
            "2  @TiltingNBA @majornija @nicole_naiya Heard thi...        4.0        0.0   \n",
            "3  Guys.\\n\\nDonald Trump is quite literally the l...      159.0        6.0   \n",
            "4  @realDonaldTrump The American people have endu...     2274.0       74.0   \n",
            "\n",
            "   quoteCount  replyCount  retweetCount  char_count  \\\n",
            "0         0.0         1.0           0.0         320   \n",
            "1         0.0         0.0           0.0         283   \n",
            "2         0.0         0.0           0.0         338   \n",
            "3         0.0         0.0           3.0         303   \n",
            "4         3.0         3.0          24.0         318   \n",
            "\n",
            "                                         bigram_text  uncivil_score  \n",
            "0  likewise kennedy is famously a democrat i was ...         0.0000  \n",
            "1  france should take in lebanese refugees as wel...         0.0000  \n",
            "2  heard this before and the numbers just get wor...         0.0000  \n",
            "3  guys donald trump is quite literally the law h...         0.0000  \n",
            "4  the american people have endured so much at th...         0.0208  \n"
          ]
        }
      ]
    }
  ]
}