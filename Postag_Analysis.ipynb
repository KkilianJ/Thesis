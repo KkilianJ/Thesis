{
  "nbformat": 4,
  "nbformat_minor": 0,
  "metadata": {
    "colab": {
      "provenance": [],
      "machine_shape": "hm",
      "gpuType": "V6E1",
      "authorship_tag": "ABX9TyMZT/hIHuCNuZzXrT5cEKyR",
      "include_colab_link": true
    },
    "kernelspec": {
      "name": "python3",
      "display_name": "Python 3"
    },
    "language_info": {
      "name": "python"
    },
    "accelerator": "TPU"
  },
  "cells": [
    {
      "cell_type": "markdown",
      "metadata": {
        "id": "view-in-github",
        "colab_type": "text"
      },
      "source": [
        "<a href=\"https://colab.research.google.com/github/KkilianJ/Thesis/blob/main/Postag_Analysis.ipynb\" target=\"_parent\"><img src=\"https://colab.research.google.com/assets/colab-badge.svg\" alt=\"Open In Colab\"/></a>"
      ]
    },
    {
      "cell_type": "code",
      "execution_count": 1,
      "metadata": {
        "colab": {
          "base_uri": "https://localhost:8080/"
        },
        "id": "poVJBQ9nei19",
        "outputId": "98ff7901-afc9-4ecf-958e-2001cbcb6ee7"
      },
      "outputs": [
        {
          "output_type": "stream",
          "name": "stdout",
          "text": [
            "Mounted at /content/drive\n"
          ]
        }
      ],
      "source": [
        "from google.colab import drive\n",
        "drive.mount('/content/drive')"
      ]
    },
    {
      "cell_type": "code",
      "source": [
        "import pandas as pd\n",
        "long_text = '/content/drive/MyDrive/Thesis/long_text_with_pos_text1.csv'\n",
        "short_text = '/content/drive/MyDrive/Thesis/short_text_with_pos_text1.csv'\n",
        "df_long = pd.read_csv(long_text, low_memory=False)\n",
        "df_short = pd.read_csv(short_text, low_memory = False)"
      ],
      "metadata": {
        "id": "hzNMGKfAenmK"
      },
      "execution_count": 2,
      "outputs": []
    },
    {
      "cell_type": "code",
      "source": [
        "import pandas as pd\n",
        "import spacy\n",
        "from collections import Counter\n",
        "from tqdm import tqdm\n",
        "\n",
        "nlp = spacy.load(\"en_core_web_sm\", disable=[\"ner\", \"textcat\", \"lemmatizer\"])\n",
        "nlp.add_pipe(\"sentencizer\")\n",
        "\n",
        "df_short = pd.read_csv('/content/drive/MyDrive/Thesis/short_text_with_pos_text1.csv')\n",
        "df_long  = pd.read_csv('/content/drive/MyDrive/Thesis/long_text_with_pos_text1.csv')\n",
        "\n",
        "short_texts = df_short['bigram_text'].astype(str).tolist()\n",
        "long_texts  = df_long['bigram_text'].astype(str).tolist()\n",
        "\n",
        "def extract_pos_sequences(texts):\n",
        "    seqs = []\n",
        "    for doc in tqdm(nlp.pipe(texts, batch_size=1000, n_process=42), total=len(texts)):\n",
        "        for sent in doc.sents:\n",
        "            tags = [tok.pos_ for tok in sent if not tok.is_punct and tok.pos_ != \"SPACE\"]\n",
        "            if tags:\n",
        "                seqs.append(\" \".join(tags))\n",
        "    return seqs\n",
        "\n",
        "short_seqs = extract_pos_sequences(short_texts)\n",
        "long_seqs  = extract_pos_sequences(long_texts)\n",
        "\n",
        "c_short = Counter(short_seqs)\n",
        "c_long  = Counter(long_seqs)\n",
        "n_short = sum(c_short.values())\n",
        "n_long  = sum(c_long.values())\n",
        "\n",
        "rows = []\n",
        "for seq in set(c_short) | set(c_long):\n",
        "    f_s = c_short.get(seq, 0)\n",
        "    f_l = c_long.get(seq, 0)\n",
        "    p_s = f_s / n_short * 100\n",
        "    p_l = f_l / n_long * 100\n",
        "    diff = p_l - p_s\n",
        "    rows.append((seq, f_s, f_l, round(p_s, 3), round(p_l, 3), round(diff, 3)))\n",
        "\n",
        "df = pd.DataFrame(rows, columns=[\"pos_sequence\", \"freq_short\", \"freq_long\", \"short_pct\", \"long_pct\", \"diff_pct\"])\n",
        "df_increase = df[df[\"diff_pct\"] > 1].sort_values(\"diff_pct\", ascending=False)\n",
        "df_decrease = df[df[\"diff_pct\"] < -1].sort_values(\"diff_pct\")\n",
        "df_neutral  = df[df[\"diff_pct\"].abs() <= 1].sort_values(\"diff_pct\", ascending=False)\n",
        "\n",
        "print(\"- Increase POS Sequences -\")\n",
        "print(df_increase[[\"pos_sequence\", \"freq_short\", \"freq_long\", \"short_pct\", \"long_pct\", \"diff_pct\"]].head(30).to_string(index=False))\n",
        "\n",
        "print(\"- Decrease POS Sequences -\")\n",
        "print(df_decrease[[\"pos_sequence\", \"freq_short\", \"freq_long\", \"short_pct\", \"long_pct\", \"diff_pct\"]].head(30).to_string(index=False))\n",
        "\n",
        "print(\"- Neutral POS Sequences -\")\n",
        "print(df_neutral[[\"pos_sequence\", \"freq_short\", \"freq_long\", \"short_pct\", \"long_pct\", \"diff_pct\"]].head(30).to_string(index=False))\n"
      ],
      "metadata": {
        "colab": {
          "base_uri": "https://localhost:8080/"
        },
        "id": "0PhPJx82KFHu",
        "outputId": "4f69cd2f-392c-4dd1-c09d-717ddd2223ce"
      },
      "execution_count": 9,
      "outputs": [
        {
          "output_type": "stream",
          "name": "stderr",
          "text": [
            "100%|██████████| 2999984/2999984 [18:50<00:00, 2654.84it/s]\n",
            "100%|██████████| 2999988/2999988 [23:02<00:00, 2169.60it/s]\n"
          ]
        },
        {
          "output_type": "stream",
          "name": "stdout",
          "text": [
            "- Increase POS Sequences -\n",
            "Empty DataFrame\n",
            "Columns: [pos_sequence, freq_short, freq_long, short_pct, long_pct, diff_pct]\n",
            "Index: []\n",
            "- Decrease POS Sequences -\n",
            "Empty DataFrame\n",
            "Columns: [pos_sequence, freq_short, freq_long, short_pct, long_pct, diff_pct]\n",
            "Index: []\n",
            "- Neutral POS Sequences -\n",
            "                                                       pos_sequence  freq_short  freq_long  short_pct  long_pct  diff_pct\n",
            "                                                               PRON        7246      18223      0.127     0.177     0.050\n",
            "                                                              SCONJ        3941       9899      0.069     0.096     0.027\n",
            "                                                                NUM        4430      10562      0.078     0.102     0.025\n",
            "                                                           PRON AUX        2299       6347      0.040     0.061     0.021\n",
            "                                                                  X        3321       7772      0.058     0.075     0.017\n",
            "                                    PRON VERB NOUN ADV ADP DET NOUN          18       1537      0.000     0.015     0.015\n",
            "PRON AUX ADV NUM ADV ADJ SCONJ PRON AUX SCONJ PROPN PROPN VERB NOUN           1       1496      0.000     0.014     0.014\n",
            "                                      PROPN PROPN AUX VERB DET NOUN         384       1775      0.007     0.017     0.010\n",
            "                                                     PRON VERB PART        1379       3433      0.024     0.033     0.009\n",
            "                                                              CCONJ        1214       3161      0.021     0.031     0.009\n"
          ]
        }
      ]
    },
    {
      "cell_type": "code",
      "source": [
        "df_increase = df[df.diff_pct > 0.005].sort_values(\"diff_pct\", ascending=False)\n",
        "df_decrease = df[df.diff_pct < -0.005].sort_values(\"diff_pct\")\n",
        "df_neutral  = df[df.diff_pct.abs() <= 0.005].sort_values(\"diff_pct\", ascending=False)\n"
      ],
      "metadata": {
        "id": "NeFTzTvKa-tZ"
      },
      "execution_count": 31,
      "outputs": []
    },
    {
      "cell_type": "code",
      "source": [
        "\n",
        "print(\"- Increase POS Sequences -\")\n",
        "print(df_increase[[\"pos_sequence\", \"freq_short\", \"freq_long\", \"short_pct\", \"long_pct\", \"diff_pct\"]].head(30).to_string(index=False))\n",
        "\n",
        "print(\"- Decrease POS Sequences -\")\n",
        "print(df_decrease[[\"pos_sequence\", \"freq_short\", \"freq_long\", \"short_pct\", \"long_pct\", \"diff_pct\"]].head(30).to_string(index=False))\n",
        "\n",
        "print(\"- Neutral POS Sequences -\")\n",
        "print(df_neutral[[\"pos_sequence\", \"freq_short\", \"freq_long\", \"short_pct\", \"long_pct\", \"diff_pct\"]].head(30).to_string(index=False))\n"
      ],
      "metadata": {
        "colab": {
          "base_uri": "https://localhost:8080/"
        },
        "id": "QDw1F_nrbCJb",
        "outputId": "a08e9d6c-4e21-415e-a3fd-efdb9a749000"
      },
      "execution_count": 32,
      "outputs": [
        {
          "output_type": "stream",
          "name": "stdout",
          "text": [
            "- Increase POS Sequences -\n",
            "                                                                                                                                       pos_sequence  freq_short  freq_long  short_pct  long_pct  diff_pct\n",
            "                                                                                                                                               PRON        7246      18223      0.127     0.177     0.050\n",
            "                                                                                                                                              SCONJ        3941       9899      0.069     0.096     0.027\n",
            "                                                                                                                                                NUM        4430      10562      0.078     0.102     0.025\n",
            "                                                                                                                                           PRON AUX        2299       6347      0.040     0.061     0.021\n",
            "                                                                                                                                                  X        3321       7772      0.058     0.075     0.017\n",
            "                                                                                                                    PRON VERB NOUN ADV ADP DET NOUN          18       1537      0.000     0.015     0.015\n",
            "                                                                                PRON AUX ADV NUM ADV ADJ SCONJ PRON AUX SCONJ PROPN PROPN VERB NOUN           1       1496      0.000     0.014     0.014\n",
            "                                                                                                                      PROPN PROPN AUX VERB DET NOUN         384       1775      0.007     0.017     0.010\n",
            "                                                                                                                                              CCONJ        1214       3161      0.021     0.031     0.009\n",
            "                                                                                                                                     PRON VERB PART        1379       3433      0.024     0.033     0.009\n",
            "                                                                                                  INTJ VERB NOUN CCONJ NOUN SCONJ PRON AUX ADP NOUN           1        877      0.000     0.008     0.008\n",
            "                                                                                                            NUM NUM ADJ NOUN PRON ADP PRON AUX VERB           1        879      0.000     0.009     0.008\n",
            "                                                                                                                                         SCONJ PRON         105        933      0.002     0.009     0.007\n",
            "NOUN PUNCT ADJ PROPN X PRON AUX VERB PROPN VERB ADP NOUN CCONJ PROPN AUX ADP VERB DET ADJ VERB VERB NOUN AUX VERB ADJ PROPN PROPN PART NOUN DET NUM           1        660      0.000     0.006     0.006\n",
            "                                                                                                                                      PRON AUX PART        1233       2834      0.022     0.027     0.006\n",
            "                                                                                                  NOUN VERB NOUN CCONJ NOUN SCONJ PRON AUX ADP NOUN           0        604      0.000     0.006     0.006\n",
            "                                                                                                                          NUM NUM ADJ NOUN PRON ADP           0        584      0.000     0.006     0.006\n",
            "- Decrease POS Sequences -\n",
            "            pos_sequence  freq_short  freq_long  short_pct  long_pct  diff_pct\n",
            "                    NOUN       47632      56855      0.835     0.551    -0.284\n",
            "                   PROPN       43580      51708      0.764     0.501    -0.263\n",
            "                    INTJ       45799      58268      0.803     0.564    -0.238\n",
            "                ADJ NOUN       28746      29538      0.504     0.286    -0.218\n",
            "                     ADJ       28992      32391      0.508     0.314    -0.194\n",
            "             PROPN PROPN       20956      19846      0.367     0.192    -0.175\n",
            "              PROPN NOUN       10234       5888      0.179     0.057    -0.122\n",
            "                    VERB       19515      22958      0.342     0.222    -0.120\n",
            "               VERB PRON       15711      17955      0.275     0.174    -0.101\n",
            "                     ADP        6905       2733      0.121     0.026    -0.095\n",
            "                     ADV       20147      28365      0.353     0.275    -0.078\n",
            "       PROPN PROPN PROPN        7341       5609      0.129     0.054    -0.074\n",
            "            PRON AUX ADJ       16414      23666      0.288     0.229    -0.058\n",
            "                 ADV ADJ        8174       8934      0.143     0.087    -0.057\n",
            "           ADJ NOUN NOUN        5596       4808      0.098     0.047    -0.052\n",
            "               INTJ INTJ        5918       5690      0.104     0.055    -0.049\n",
            "               NOUN NOUN        9694      12744      0.170     0.123    -0.046\n",
            "           VERB DET NOUN        8437      10681      0.148     0.103    -0.044\n",
            "           VERB ADP NOUN        5279       5364      0.093     0.052    -0.041\n",
            "        PROPN PROPN NOUN        3651       2588      0.064     0.025    -0.039\n",
            "               VERB NOUN        7261       9207      0.127     0.089    -0.038\n",
            "                   X NUM        3280       2022      0.057     0.020    -0.038\n",
            "           PRON DET NOUN        3743       2988      0.066     0.029    -0.037\n",
            "          VERB PRON VERB        3563       2825      0.062     0.027    -0.035\n",
            "                ADV VERB        5014       5515      0.088     0.053    -0.034\n",
            "PROPN PROPN AUX DET NOUN        2966       1888      0.052     0.018    -0.034\n",
            "      PROPN AUX DET NOUN        3963       3682      0.069     0.036    -0.034\n",
            "   VERB PRON PROPN PROPN        2215        815      0.039     0.008    -0.031\n",
            "                NOUN NUM        3285       2805      0.058     0.027    -0.030\n",
            "           PRON VERB ADJ        7549      10626      0.132     0.103    -0.029\n",
            "- Neutral POS Sequences -\n",
            "                                                                                                                                                                        pos_sequence  freq_short  freq_long  short_pct  long_pct  diff_pct\n",
            "                                                                                                                                                                     PROPN NOUN INTJ          35        611      0.001     0.006     0.005\n",
            "                                                                                                                                                             PRON AUX PART VERB NOUN        1547       3315      0.027     0.032     0.005\n",
            "                                                                                                                                                              PRON AUX PART DET NOUN        1133       2442      0.020     0.024     0.004\n",
            "                                                                                                                                                                        DET NOUN AUX         223        780      0.004     0.008     0.004\n",
            "                                                                                                                                                                     CCONJ PRON VERB         592       1535      0.010     0.015     0.004\n",
            "                                                                                                                                                                            NOUN AUX         243        839      0.004     0.008     0.004\n",
            "                                                                                                                                                         PRON AUX PART VERB DET NOUN        1738       3601      0.030     0.035     0.004\n",
            "                                                                                                                      VERB PART VERB NOUN NOUN ADJ ADV NOUN NUM VERB NOUN PROPN NOUN           0        412      0.000     0.004     0.004\n",
            "                                                                                                                                                                                 AUX         377       1136      0.007     0.011     0.004\n",
            "                                                                                                               PROPN CCONJ NOUN VERB CCONJ VERB PRON ADP ADP PROPN ADP NUM CCONJ NUM           0        460      0.000     0.004     0.004\n",
            "                                                                                                                                                            VERB CCONJ VERB PRON ADJ           7        407      0.000     0.004     0.004\n",
            "NOUN ADP PROPN CCONJ ADP NOUN ADP DET PROPN PROPN ADJ NOUN PROPN PROPN CCONJ NOUN VERB DET PROPN CCONJ DET NOUN ADP DET PROPN CCONJ DET PROPN VERB PRON NOUN DET ADJ ADJ PROPN PROPN           0        366      0.000     0.004     0.004\n",
            "                                                                                                                                                                          CCONJ PRON         309        927      0.005     0.009     0.004\n",
            "                                                                                                                                                                     SCONJ PRON VERB         414       1047      0.007     0.010     0.003\n",
            "                                                                                                                                                         PRON AUX PART VERB ADJ NOUN         257        792      0.005     0.008     0.003\n",
            "                                                                                                                                    ADJ NOUN VERB PRON ADJ NOUN ADP DET ADJ NUM NOUN           0        292      0.000     0.003     0.003\n",
            "                                                                                                                                                                  NOUN AUX PART VERB         632       1459      0.011     0.014     0.003\n",
            "                                                                                                                                                                    NOUN AUX ADV NUM          20        383      0.000     0.004     0.003\n",
            "                                                                                                                                                                  NOUN VERB DET NOUN         921       1956      0.016     0.019     0.003\n",
            "                                                                                                     X X X NUM X NUM X X PROPN NUM X NUM X NUM PRON VERB ADV VERB PRON VERB ADP NOUN           0        352      0.000     0.003     0.003\n",
            "                                                          ADV SCONJ PRON AUX VERB PART VERB ADP ADJ NOUN VERB ADP DET NOUN NOUN NOUN VERB PRON NOUN ADV ADP PRON CCONJ ADV VERB PRON           3        264      0.000     0.003     0.003\n",
            "                                         VERB ADJ NOUN NOUN CCONJ VERB ADV ADJ ADP PRON PRON AUX VERB SCONJ NOUN PROPN PROPN CCONJ PROPN ADP NOUN AUX VERB ADP ADJ ADV VERB ADJ NOUN           0        292      0.000     0.003     0.003\n",
            "                                                                                                                                                              ADV NUM NOUN NOUN VERB           0        291      0.000     0.003     0.003\n",
            "                                                                                                                                                                ADJ NOUN AUX ADV NUM           9        317      0.000     0.003     0.003\n",
            "                                                                                                                                                        PRON AUX PART VERB PRON NOUN         557       1182      0.010     0.011     0.002\n",
            "                                       DET PROPN AUX ADV ADV DET ADJ NOUN PRON AUX DET NOUN ADP DET NOUN ADP NOUN NOUN ADJ NOUN CCONJ NOUN NOUN NUM NOUN NOUN ADP PRON ADP DET PROPN          10        189      0.000     0.002     0.002\n",
            "                                                                                                                   ADV ADV PRON AUX VERB DET NOUN CCONJ DET NOUN VERB SCONJ PRON AUX           0        167      0.000     0.002     0.002\n",
            "                                                                                                                                                                   PRON AUX PART ADJ        2097       3985      0.037     0.039     0.002\n",
            "                                                                                                          ADJ ADP DET NOUN VERB PART AUX VERB CCONJ ADV VERB PRON AUX VERB ADP PROPN           0        176      0.000     0.002     0.002\n",
            "                                                                                                                                                         PRON VERB DET NOUN ADP NOUN        1003       2013      0.018     0.020     0.002\n"
          ]
        }
      ]
    },
    {
      "cell_type": "code",
      "source": [
        "from collections import Counter\n",
        "\n",
        "top_short = Counter(short_seqs).most_common(30)\n",
        "top_long = Counter(long_seqs).most_common(30)\n",
        "\n",
        "print(\"Top 10 POS sequences in SHORT tweets:\")\n",
        "for seq, freq in top_short:\n",
        "    print(f\"{seq} : {freq}\")\n",
        "\n",
        "print(\"\\nTop 10 POS sequences in LONG tweets:\")\n",
        "for seq, freq in top_long:\n",
        "    print(f\"{seq} : {freq}\")\n"
      ],
      "metadata": {
        "colab": {
          "base_uri": "https://localhost:8080/"
        },
        "id": "0g67ECe5cnBH",
        "outputId": "c5e63e03-0734-4609-8c0a-be4c8cc2b615"
      },
      "execution_count": 16,
      "outputs": [
        {
          "output_type": "stream",
          "name": "stdout",
          "text": [
            "Top 10 POS sequences in SHORT tweets:\n",
            "NOUN : 47632\n",
            "INTJ : 45799\n",
            "PROPN : 43580\n",
            "ADJ : 28992\n",
            "ADJ NOUN : 28746\n",
            "PROPN PROPN : 20956\n",
            "ADV : 20147\n",
            "VERB : 19515\n",
            "PRON AUX ADJ : 16414\n",
            "VERB PRON : 15711\n",
            "PRON VERB : 11946\n",
            "DET NOUN : 10581\n",
            "PRON VERB DET NOUN : 10487\n",
            "PROPN NOUN : 10234\n",
            "PRON VERB PRON : 9700\n",
            "NOUN NOUN : 9694\n",
            "PRON AUX DET NOUN : 8690\n",
            "VERB DET NOUN : 8437\n",
            "ADV ADJ : 8174\n",
            "PRON AUX VERB : 7970\n",
            "PRON VERB ADJ : 7549\n",
            "PROPN PROPN PROPN : 7341\n",
            "VERB NOUN : 7261\n",
            "PRON : 7246\n",
            "ADP : 6905\n",
            "PRON VERB NOUN : 6345\n",
            "PRON AUX DET ADJ NOUN : 6207\n",
            "PRON AUX ADV ADJ : 6207\n",
            "INTJ INTJ : 5918\n",
            "ADJ NOUN NOUN : 5596\n",
            "\n",
            "Top 10 POS sequences in LONG tweets:\n",
            "INTJ : 58268\n",
            "NOUN : 56855\n",
            "PROPN : 51708\n",
            "ADJ : 32391\n",
            "ADJ NOUN : 29538\n",
            "ADV : 28365\n",
            "PRON AUX ADJ : 23666\n",
            "VERB : 22958\n",
            "PRON VERB : 20672\n",
            "PROPN PROPN : 19846\n",
            "PRON : 18223\n",
            "VERB PRON : 17955\n",
            "PRON VERB DET NOUN : 17575\n",
            "DET NOUN : 17340\n",
            "PRON VERB PRON : 15623\n",
            "PRON AUX DET NOUN : 13901\n",
            "PRON AUX VERB : 12823\n",
            "NOUN NOUN : 12744\n",
            "VERB DET NOUN : 10681\n",
            "PRON VERB ADJ : 10626\n",
            "NUM : 10562\n",
            "PRON AUX DET ADJ NOUN : 10432\n",
            "PRON VERB NOUN : 9941\n",
            "SCONJ : 9899\n",
            "PRON AUX ADV ADJ : 9250\n",
            "VERB NOUN : 9207\n",
            "ADV ADJ : 8934\n",
            "PRON VERB DET ADJ NOUN : 8167\n",
            "X : 7772\n",
            "VERB ADP : 6817\n"
          ]
        }
      ]
    },
    {
      "cell_type": "code",
      "source": [
        "print(\"Total POS sequences in short:\", len(short_seqs))\n",
        "print(\"Total POS sequences in long:\", len(long_seqs))\n"
      ],
      "metadata": {
        "colab": {
          "base_uri": "https://localhost:8080/"
        },
        "id": "G-_hV9eMbO4U",
        "outputId": "760c6cc8-8b6a-49f3-ad01-4a87368e4773"
      },
      "execution_count": 13,
      "outputs": [
        {
          "output_type": "stream",
          "name": "stdout",
          "text": [
            "Total POS sequences in short: 5705072\n",
            "Total POS sequences in long: 10322264\n"
          ]
        }
      ]
    }
  ]
}