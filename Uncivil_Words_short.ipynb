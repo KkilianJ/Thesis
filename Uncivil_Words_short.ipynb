{
  "cells": [
    {
      "cell_type": "markdown",
      "metadata": {
        "id": "view-in-github",
        "colab_type": "text"
      },
      "source": [
        "<a href=\"https://colab.research.google.com/github/KkilianJ/Thesis/blob/main/Uncivil_Words_short.ipynb\" target=\"_parent\"><img src=\"https://colab.research.google.com/assets/colab-badge.svg\" alt=\"Open In Colab\"/></a>"
      ]
    },
    {
      "cell_type": "code",
      "execution_count": 1,
      "metadata": {
        "colab": {
          "base_uri": "https://localhost:8080/"
        },
        "id": "T8knXbQ9yXd8",
        "outputId": "b4446f71-be2f-4f2a-9ee2-6a86a32d1ba1"
      },
      "outputs": [
        {
          "output_type": "stream",
          "name": "stdout",
          "text": [
            "Mounted at /content/drive\n"
          ]
        }
      ],
      "source": [
        "from google.colab import drive\n",
        "drive.mount('/content/drive')"
      ]
    },
    {
      "cell_type": "code",
      "execution_count": 2,
      "metadata": {
        "id": "vS2edxqux-7Y"
      },
      "outputs": [],
      "source": [
        "import pandas as pd\n",
        "df_short= pd.read_csv('/content/drive/MyDrive/Thesis/short_text_with_pos_text.csv', low_memory = False)\n",
        "text_short = df_short['bigram_text'].tolist()"
      ]
    },
    {
      "cell_type": "code",
      "execution_count": 3,
      "metadata": {
        "colab": {
          "base_uri": "https://localhost:8080/"
        },
        "id": "7mOyX9BXzk3V",
        "outputId": "224a9001-d38a-4266-993d-843ebc4dd444"
      },
      "outputs": [
        {
          "output_type": "stream",
          "name": "stderr",
          "text": [
            "Lemmatizing + Scoring: 100%|██████████| 2999943/2999943 [8:55:19<00:00, 93.40it/s]\n"
          ]
        }
      ],
      "source": [
        "import pandas as pd\n",
        "import spacy\n",
        "import re\n",
        "from joblib import Parallel, delayed\n",
        "from tqdm import tqdm\n",
        "\n",
        "\n",
        "def process_tweet(text):\n",
        "    nlp = spacy.load(\"en_core_web_sm\")\n",
        "\n",
        "    uncivil_words = {\"dumb\", \"farc\", \"hypocrit\", \"insan\", \"insecur\", \"irrespons\", \"sham\", \"trivial\", \"unaccept\", \"uneth\", \"unfair\",\n",
        "                 \"bigot\", \"bigotri\", \"discrimin\", \"prejudic\", \"racism\", \"racist\", \"segreg\", \"stereotyp\", \"betray\", \"enemi\",\n",
        "                 \"insurg\", \"overthrow\", \"riot\", \"threat\", \"threaten\", \"traitor\", \"treason\", \"tyranni\", \"brainwash\", \"deceiv\",\n",
        "                 \"decept\", \"dishonest\", \"disingenu\", \"inaccur\", \"incorrect\", \"misinform\", \"mislead\", \"uninform\", \"dysfunct\",\n",
        "                 \"infring\", \"obstruct\", \"obstructionist\", \"suppress\", \"unconstitut\", \"chao\", \"debacl\", \"delud\", \"demean\",\n",
        "                 \"disrespect\", \"fiasco\", \"inappropri\", \"nasti\", \"vitriol\", \"yell\"}\n",
        "\n",
        "\n",
        "    doc = nlp(text)\n",
        "    lemmas = [token.lemma_.lower() for token in doc if not token.is_space]\n",
        "    if not lemmas:\n",
        "        return 0.0\n",
        "    count = sum(1 for lemma in lemmas if any(lemma.startswith(w) for w in uncivil_words))\n",
        "    return round(count / len(lemmas), 4)\n",
        "\n",
        "\n",
        "results = Parallel(n_jobs=42)(\n",
        "    delayed(process_tweet)(text) for text in tqdm(text_short, desc=\"Lemmatizing + Scoring\")\n",
        ")\n",
        "df_short[\"uncivil_score\"] = results\n",
        "df_short.to_csv(\"/content/drive/MyDrive/Thesis/short_text_with_pos_text.csv\", index=False)\n",
        "\n"
      ]
    },
    {
      "cell_type": "code",
      "source": [
        "print(df_short.head(30))\n"
      ],
      "metadata": {
        "colab": {
          "base_uri": "https://localhost:8080/"
        },
        "id": "prCH1i61qyMW",
        "outputId": "4cc82d26-3243-47d3-f737-b576d3b95746"
      },
      "execution_count": 5,
      "outputs": [
        {
          "output_type": "stream",
          "name": "stdout",
          "text": [
            "                                                 text  viewCount  likeCount  \\\n",
            "0   @GOP @SheehyforMT Interesting perspective! But...        3.0        0.0   \n",
            "1   @co_rapunzel4 @MSNBC @nbc @CBS @ABC @CNN I hav...       16.0        0.0   \n",
            "2   @Mayor_Steinberg I want to share my blood and ...       81.0        0.0   \n",
            "3   @ErrataRob @GeorgeOu Correct, the gop makes it...       36.0        0.0   \n",
            "4   @BidensWins Are you going to change your Twitt...        3.0        0.0   \n",
            "5   @LangmanVince This doesn't have shit to do wit...        2.0        0.0   \n",
            "6   🌎Kamala Harris is the laughingstock of the ent...        2.0        0.0   \n",
            "7   @EvolvingEmpathy @atensnut That’s correct no w...       12.0        0.0   \n",
            "8   @axios It won't be long now. Biden will drop s...      165.0        0.0   \n",
            "9   Channeling his inner Joe Biden\\n\\nhttps://t.co...        5.0        0.0   \n",
            "10  The Democratic Party.  This what these are, an...        7.0        0.0   \n",
            "11  @JulieMasonShow1 Shame on this man , shame on ...        4.0        1.0   \n",
            "12  Rep Landsman asks President Biden to step asid...       53.0        1.0   \n",
            "13  @JaneCaro She was handed a bad set of cards by...      173.0        3.0   \n",
            "14  I just noticed that the first night of Chanuka...       15.0        0.0   \n",
            "15  @bennyjohnson @Sam26560675 That’s a dream truc...       36.0        2.0   \n",
            "16  @ByronYork I just don't understand why Biden c...        3.0        0.0   \n",
            "17  VP Kamala Harris Paid Boule Martin $350K As A ...        7.0        0.0   \n",
            "18  -is reminded of how he almost got murked const...       99.0        5.0   \n",
            "19  @joshtpm Imagine. Kamala Harris has been geari...       87.0        4.0   \n",
            "20  @KatiePavlich #uspoli @FoxBusiness @foxnewspol...       42.0        0.0   \n",
            "21  @KamalaHarris 🚨 According to a new report from...       63.0        0.0   \n",
            "22  https://t.co/BNDVNO5M2t\\n\\nVice President Kama...       14.0        0.0   \n",
            "23  NEW: In my city, every congressional democrat ...     4719.0      404.0   \n",
            "24                              The MAGA City Bad Man       38.0        2.0   \n",
            "25  @snaiperde @ChadCaff @DestraNetwork Let’s go #...       16.0        1.0   \n",
            "26  Biden to Announce A.I. Center in Wisconsin as ...       15.0        0.0   \n",
            "27  @RpsAgainstTrump Because Nikki Haley is a frau...     2102.0      175.0   \n",
            "28      And another one, #MAGA, bites the Dust. \\n🤣🤣🤣        3.0        0.0   \n",
            "29  @NotoriousRBF @atrupar Only because Biden was ...       12.0        0.0   \n",
            "\n",
            "    quoteCount  replyCount  retweetCount  char_count  \\\n",
            "0          0.0         0.0           0.0         238   \n",
            "1          0.0         0.0           0.0         132   \n",
            "2          0.0         0.0           0.0         276   \n",
            "3          0.0         0.0           0.0          95   \n",
            "4          0.0         0.0           0.0          95   \n",
            "5          0.0         0.0           0.0         137   \n",
            "6          0.0         0.0           0.0          64   \n",
            "7          0.0         0.0           0.0         207   \n",
            "8          0.0         0.0           0.0          50   \n",
            "9          0.0         0.0           0.0          55   \n",
            "10         0.0         0.0           0.0         102   \n",
            "11         0.0         0.0           0.0         236   \n",
            "12         0.0         0.0           0.0         142   \n",
            "13         0.0         7.0           0.0         247   \n",
            "14         0.0         0.0           0.0         179   \n",
            "15         0.0         1.0           0.0          58   \n",
            "16         0.0         0.0           0.0          61   \n",
            "17         0.0         0.0           0.0         112   \n",
            "18         0.0         1.0           0.0         279   \n",
            "19         0.0         0.0           0.0         153   \n",
            "20         0.0         0.0           0.0         147   \n",
            "21         0.0         1.0           0.0         278   \n",
            "22         0.0         0.0           0.0         187   \n",
            "23         4.0         9.0         182.0         230   \n",
            "24         1.0         0.0           0.0          21   \n",
            "25         0.0         0.0           0.0          51   \n",
            "26         0.0         0.0           0.0         142   \n",
            "27         2.0         4.0          13.0         202   \n",
            "28         0.0         0.0           0.0          47   \n",
            "29         0.0         0.0           0.0          97   \n",
            "\n",
            "                                          bigram_text  uncivil_score  \n",
            "0   interesting perspective but instead of labelin...         0.0000  \n",
            "1   i havent asked for either i saw trump get shot...         0.0000  \n",
            "2   i want to share my blood and tears with people...         0.0000  \n",
            "3   correct the gop makes it seem like illegal vot...         0.0000  \n",
            "4   are you going to change your twitter account t...         0.0000  \n",
            "5   this doesnt have shit to do wit biden yall wil...         0.0000  \n",
            "6   kamala harris is the laughingstock of the enti...         0.0000  \n",
            "7   thats correct no woman is above the law either...         0.0000  \n",
            "8            it wont be long now biden will drop soon         0.0000  \n",
            "9                      channeling his inner joe biden         0.0000  \n",
            "10  the democratic party this what these are and t...         0.0000  \n",
            "11  shame on this man shame on him this country wo...         0.0488  \n",
            "12  rep landsman asks president biden to step asid...         0.0000  \n",
            "13  she was handed a bad set of cards by joe biden...         0.0000  \n",
            "14  i just noticed that the first night of chanuka...         0.0000  \n",
            "15                           thats a dream truck maga         0.0000  \n",
            "16   i just dont understand why biden cant be stopped         0.0000  \n",
            "17  vp kamala harris paid boule martin 350k as a t...         0.0000  \n",
            "18  is reminded of how he almost got murked consta...         0.0000  \n",
            "19  imagine kamala harris has been gearing up her ...         0.0000  \n",
            "20  isnt the strategic reserve already at a low le...         0.0000  \n",
            "21  according to a new report from the deputy dire...         0.0270  \n",
            "22  vice president kamala harris and former presid...         0.0000  \n",
            "23  new in my city every congressional democrat ca...         0.0000  \n",
            "24                              the maga city bad man         0.0000  \n",
            "25                                            lets go         0.0000  \n",
            "26  biden to announce ai center in wisconsin as pa...         0.0000  \n",
            "27  because nikki haley is a fraud and a wretched ...         0.0000  \n",
            "28                     and another one bites the dust         0.0000  \n",
            "29  only because biden was literally ruled legally...         0.0000  \n"
          ]
        }
      ]
    }
  ],
  "metadata": {
    "accelerator": "TPU",
    "colab": {
      "gpuType": "V6E1",
      "machine_shape": "hm",
      "provenance": [],
      "authorship_tag": "ABX9TyP5NTyE7IUejfjfXmWg3P/r",
      "include_colab_link": true
    },
    "kernelspec": {
      "display_name": "Python 3",
      "name": "python3"
    },
    "language_info": {
      "name": "python"
    }
  },
  "nbformat": 4,
  "nbformat_minor": 0
}