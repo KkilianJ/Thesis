{
  "nbformat": 4,
  "nbformat_minor": 0,
  "metadata": {
    "colab": {
      "provenance": [],
      "machine_shape": "hm",
      "gpuType": "A100",
      "mount_file_id": "12IiriVYjxaboX4jcAW3kYaOJYF3zT3E3",
      "authorship_tag": "ABX9TyOPjfczXOakbWx8MIrdd0zD"
    },
    "kernelspec": {
      "name": "python3",
      "display_name": "Python 3"
    },
    "language_info": {
      "name": "python"
    },
    "accelerator": "GPU"
  },
  "cells": [
    {
      "cell_type": "code",
      "execution_count": null,
      "metadata": {
        "id": "r-aOcSIcQJmu"
      },
      "outputs": [],
      "source": [
        "from google.colab import drive\n",
        "import pandas as pd\n",
        "import numpy as np\n",
        "drive.mount(\"/content/drive\", force_remount=True)"
      ]
    },
    {
      "cell_type": "code",
      "source": [
        "import pandas as pd\n",
        "import os\n",
        "import re\n",
        "from multiprocessing import Pool\n",
        "\n",
        "input_dir = \"/content/drive/MyDrive/Thesis/Original_dataset\"\n",
        "output_csv = \"/content/drive/MyDrive/Thesis/output_tweets.csv\"\n",
        "num_workers = 4\n",
        "\n",
        "def extract_views(v):\n",
        "    m = re.search(r\"'count':\\s*'([^']*)'\", str(v))\n",
        "    return m.group(1) if m else None\n",
        "\n",
        "def handle_file(path):\n",
        "    df = pd.read_csv(path)\n",
        "    df = df[(df['lang'] == 'en') & (df['retweetedTweet'] == 'FALSE')]\n",
        "    df['viewCount'] = df['viewCount'].apply(extract_views)\n",
        "    return df[['text', 'viewCount', 'likeCount', 'quoteCount', 'replyCount', 'retweetCount']]\n",
        "\n",
        "def find_csvs(folder):\n",
        "    paths = []\n",
        "    for root, _, files in os.walk(folder):\n",
        "        for f in files:\n",
        "            if f.endswith('.csv'):\n",
        "                paths.append(os.path.join(root, f))\n",
        "    return paths\n",
        "\n",
        "if __name__ == \"__main__\":\n",
        "    files = find_csvs(input_dir)\n",
        "    print(f\"Total:{len(files)}\")\n",
        "\n",
        "    with Pool(num_workers) as p:\n",
        "        results = p.map(handle_file, files)\n",
        "\n",
        "    dfs_search = [r for r in results if r is not None and not r.empty]\n",
        "    final = pd.concat(dfs_search, ignore_index=True)\n",
        "    final.to_csv(output_csv, index=False)\n",
        "    print(f\"Rows saved: {len(final)}\")"
      ],
      "metadata": {
        "id": "PF6b7di0fphr"
      },
      "execution_count": null,
      "outputs": []
    }
  ]
}