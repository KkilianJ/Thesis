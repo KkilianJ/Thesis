{
  "nbformat": 4,
  "nbformat_minor": 0,
  "metadata": {
    "colab": {
      "provenance": [],
      "machine_shape": "hm",
      "gpuType": "A100",
      "mount_file_id": "12IiriVYjxaboX4jcAW3kYaOJYF3zT3E3",
      "authorship_tag": "ABX9TyOwS8HBrJHakxRiTu7O/8Aq",
      "include_colab_link": true
    },
    "kernelspec": {
      "name": "python3",
      "display_name": "Python 3"
    },
    "language_info": {
      "name": "python"
    },
    "accelerator": "GPU"
  },
  "cells": [
    {
      "cell_type": "markdown",
      "metadata": {
        "id": "view-in-github",
        "colab_type": "text"
      },
      "source": [
        "<a href=\"https://colab.research.google.com/github/KkilianJ/Thesis/blob/main/Column_Cleaning.ipynb\" target=\"_parent\"><img src=\"https://colab.research.google.com/assets/colab-badge.svg\" alt=\"Open In Colab\"/></a>"
      ]
    },
    {
      "cell_type": "code",
      "execution_count": null,
      "metadata": {
        "id": "r-aOcSIcQJmu",
        "colab": {
          "base_uri": "https://localhost:8080/"
        },
        "outputId": "004578e3-56a7-42cc-909a-669b3d73ba4c"
      },
      "outputs": [
        {
          "output_type": "stream",
          "name": "stdout",
          "text": [
            "Mounted at /content/drive\n"
          ]
        }
      ],
      "source": [
        "from google.colab import drive\n",
        "import pandas as pd\n",
        "import numpy as np\n",
        "drive.mount(\"/content/drive\", force_remount=True)"
      ]
    },
    {
      "cell_type": "code",
      "source": [
        "import pandas as pd\n",
        "import os\n",
        "import re\n",
        "from multiprocessing import Pool\n",
        "\n",
        "input_dir = \"/content/drive/MyDrive/Thesis/Original_data\"\n",
        "output_csv = \"/content/drive/MyDrive/Thesis/output_tweets.csv\"\n",
        "num_workers = 4\n",
        "\n",
        "def extract_views(v):\n",
        "    m = re.search(r\"'count':\\s*'([^']*)'\", str(v))\n",
        "    return m.group(1) if m else None\n",
        "\n",
        "def handle_file(path):\n",
        "    df = pd.read_csv(path)\n",
        "    df = df[(df['lang'] == 'en')]\n",
        "    df = df[df['retweetedTweet'].astype(str).str.strip().str.lower() == 'false']\n",
        "    df['viewCount'] = df['viewCount'].apply(extract_views)\n",
        "    print(f\"Processed: {os.path.basename(path)}\")\n",
        "    return df[['text', 'viewCount', 'likeCount', 'quoteCount', 'replyCount', 'retweetCount']]\n",
        "\n",
        "def find_csvs(folder):\n",
        "    paths = []\n",
        "    for root, _, files in os.walk(folder):\n",
        "        for f in files:\n",
        "            if f.endswith('.csv'):\n",
        "                paths.append(os.path.join(root, f))\n",
        "    return paths\n",
        "\n",
        "if __name__ == \"__main__\":\n",
        "    files = find_csvs(input_dir)\n",
        "    print(f\"Total:{len(files)}\")\n",
        "\n",
        "    with Pool(num_workers) as p:\n",
        "        results = p.map(handle_file, files)\n",
        "\n",
        "    dfs_search = [r for r in results if r is not None and not r.empty]\n",
        "    final = pd.concat(dfs_search, ignore_index=True)\n",
        "    final.to_csv(output_csv, index=False)\n",
        "    print(f\"Rows saved: {len(final)}\")"
      ],
      "metadata": {
        "id": "PF6b7di0fphr",
        "colab": {
          "base_uri": "https://localhost:8080/"
        },
        "outputId": "8bd421f2-6cb1-4506-b5fd-5ed4ba69ba0a"
      },
      "execution_count": 2,
      "outputs": [
        {
          "metadata": {
            "tags": null
          },
          "name": "stdout",
          "output_type": "stream",
          "text": [
            "Total:881\n",
            "Processed: september_chunk_49.csv\n"
          ]
        },
        {
          "metadata": {
            "tags": null
          },
          "name": "stderr",
          "output_type": "stream",
          "text": [
            "/tmp/ipython-input-2-3775788261.py:15: DtypeWarning: Columns (23,24,26,27) have mixed types. Specify dtype option on import or set low_memory=False.\n",
            "  df = pd.read_csv(path)\n"
          ]
        },
        {
          "metadata": {
            "tags": null
          },
          "name": "stdout",
          "output_type": "stream",
          "text": [
            "Processed: may_july_chunk_135.csv\n",
            "Processed: may_july_chunk_178.csv\n",
            "Processed: may_july_chunk_158.csv\n",
            "Processed: september_chunk_47.csv\n",
            "Processed: may_july_chunk_176.csv\n"
          ]
        },
        {
          "metadata": {
            "tags": null
          },
          "name": "stderr",
          "output_type": "stream",
          "text": [
            "/tmp/ipython-input-2-3775788261.py:15: DtypeWarning: Columns (23,24,26,27) have mixed types. Specify dtype option on import or set low_memory=False.\n",
            "  df = pd.read_csv(path)\n"
          ]
        },
        {
          "metadata": {
            "tags": null
          },
          "name": "stdout",
          "output_type": "stream",
          "text": [
            "Processed: may_july_chunk_129.csv\n",
            "Processed: may_july_chunk_152.csv\n",
            "Processed: september_chunk_57.csv\n"
          ]
        },
        {
          "metadata": {
            "tags": null
          },
          "name": "stderr",
          "output_type": "stream",
          "text": [
            "/tmp/ipython-input-2-3775788261.py:15: DtypeWarning: Columns (23,24,26,27) have mixed types. Specify dtype option on import or set low_memory=False.\n",
            "  df = pd.read_csv(path)\n"
          ]
        },
        {
          "metadata": {
            "tags": null
          },
          "name": "stdout",
          "output_type": "stream",
          "text": [
            "Processed: may_july_chunk_174.csv\n",
            "Processed: may_july_chunk_127.csv\n",
            "Processed: may_july_chunk_142.csv\n"
          ]
        },
        {
          "metadata": {
            "tags": null
          },
          "name": "stderr",
          "output_type": "stream",
          "text": [
            "/tmp/ipython-input-2-3775788261.py:15: DtypeWarning: Columns (24,26,27) have mixed types. Specify dtype option on import or set low_memory=False.\n",
            "  df = pd.read_csv(path)\n"
          ]
        },
        {
          "metadata": {
            "tags": null
          },
          "name": "stdout",
          "output_type": "stream",
          "text": [
            "Processed: september_chunk_45.csv\n",
            "Processed: may_july_chunk_175.csv\n",
            "Processed: may_july_chunk_136.csv\n",
            "Processed: may_july_chunk_150.csv\n",
            "Processed: may_july_chunk_11.csv\n",
            "Processed: may_july_chunk_170.csv\n",
            "Processed: may_july_chunk_122.csv\n",
            "Processed: may_july_chunk_154.csv\n"
          ]
        },
        {
          "metadata": {
            "tags": null
          },
          "name": "stderr",
          "output_type": "stream",
          "text": [
            "/tmp/ipython-input-2-3775788261.py:15: DtypeWarning: Columns (23,24,26,27) have mixed types. Specify dtype option on import or set low_memory=False.\n",
            "  df = pd.read_csv(path)\n"
          ]
        },
        {
          "metadata": {
            "tags": null
          },
          "name": "stdout",
          "output_type": "stream",
          "text": [
            "Processed: may_july_chunk_172.csv\n",
            "Processed: may_july_chunk_3.csv\n",
            "Processed: may_july_chunk_132.csv\n",
            "Processed: may_july_chunk_144.csv\n"
          ]
        },
        {
          "metadata": {
            "tags": null
          },
          "name": "stderr",
          "output_type": "stream",
          "text": [
            "/tmp/ipython-input-2-3775788261.py:15: DtypeWarning: Columns (23,24,26,27) have mixed types. Specify dtype option on import or set low_memory=False.\n",
            "  df = pd.read_csv(path)\n"
          ]
        },
        {
          "metadata": {
            "tags": null
          },
          "name": "stdout",
          "output_type": "stream",
          "text": [
            "Processed: may_july_chunk_177.csv\n",
            "Processed: may_july_chunk_13.csv\n",
            "Processed: may_july_chunk_124.csv\n",
            "Processed: may_july_chunk_146.csv\n",
            "Processed: may_july_chunk_169.csv\n",
            "Processed: may_july_chunk_17.csv\n",
            "Processed: may_july_chunk_130.csv\n",
            "Processed: may_july_chunk_156.csv\n",
            "Processed: may_july_chunk_165.csv\n",
            "Processed: may_july_chunk_9.csv\n"
          ]
        },
        {
          "metadata": {
            "tags": null
          },
          "name": "stderr",
          "output_type": "stream",
          "text": [
            "/tmp/ipython-input-2-3775788261.py:15: DtypeWarning: Columns (23,24,26,27) have mixed types. Specify dtype option on import or set low_memory=False.\n",
            "  df = pd.read_csv(path)\n"
          ]
        },
        {
          "metadata": {
            "tags": null
          },
          "name": "stdout",
          "output_type": "stream",
          "text": [
            "Processed: may_july_chunk_128.csv\n",
            "Processed: may_july_chunk_148.csv\n",
            "Processed: may_july_chunk_179.csv\n",
            "Processed: may_july_chunk_1.csv\n",
            "Processed: may_july_chunk_126.csv\n",
            "Processed: may_july_chunk_160.csv\n",
            "Processed: may_july_chunk_171.csv\n",
            "Processed: may_july_chunk_5.csv\n",
            "Processed: may_july_chunk_138.csv\n",
            "Processed: may_july_chunk_143.csv\n",
            "Processed: may_july_chunk_163.csv\n",
            "Processed: may_july_chunk_7.csv\n",
            "Processed: may_july_chunk_134.csv\n",
            "Processed: may_july_chunk_141.csv\n",
            "Processed: may_july_chunk_167.csv\n",
            "Processed: september_chunk_21.csv\n",
            "Processed: may_july_chunk_16.csv\n"
          ]
        },
        {
          "metadata": {
            "tags": null
          },
          "name": "stderr",
          "output_type": "stream",
          "text": [
            "/tmp/ipython-input-2-3775788261.py:15: DtypeWarning: Columns (6,7,8,9,17,22,24,26,27) have mixed types. Specify dtype option on import or set low_memory=False.\n",
            "  df = pd.read_csv(path)\n"
          ]
        },
        {
          "metadata": {
            "tags": null
          },
          "name": "stdout",
          "output_type": "stream",
          "text": [
            "Processed: may_july_chunk_153.csv\n",
            "Processed: may_july_chunk_173.csv\n",
            "Processed: may_july_chunk_19.csv\n",
            "Processed: september_chunk_37.csv\n",
            "Processed: may_july_chunk_151.csv\n",
            "Processed: may_july_chunk_161.csv\n",
            "Processed: may_july_chunk_12.csv\n",
            "Processed: september_chunk_31.csv\n",
            "Processed: may_july_chunk_159.csv\n",
            "Processed: may_july_chunk_180.csv\n",
            "Processed: may_july_chunk_15.csv\n",
            "Processed: september_chunk_40.csv\n",
            "Processed: may_july_chunk_147.csv\n"
          ]
        },
        {
          "metadata": {
            "tags": null
          },
          "name": "stderr",
          "output_type": "stream",
          "text": [
            "/tmp/ipython-input-2-3775788261.py:15: DtypeWarning: Columns (3,5,7,8,11,12,13,18,20,21,22,23,24,25,30,31) have mixed types. Specify dtype option on import or set low_memory=False.\n",
            "  df = pd.read_csv(path)\n"
          ]
        },
        {
          "metadata": {
            "tags": null
          },
          "name": "stdout",
          "output_type": "stream",
          "text": [
            "Processed: september_chunk_29.csv\n",
            "Processed: may_july_chunk_241.csv\n"
          ]
        },
        {
          "metadata": {
            "tags": null
          },
          "name": "stderr",
          "output_type": "stream",
          "text": [
            "/tmp/ipython-input-2-3775788261.py:15: DtypeWarning: Columns (2,8,9,10,24) have mixed types. Specify dtype option on import or set low_memory=False.\n",
            "  df = pd.read_csv(path)\n"
          ]
        },
        {
          "metadata": {
            "tags": null
          },
          "name": "stdout",
          "output_type": "stream",
          "text": [
            "Processed: september_chunk_33.csv\n",
            "Processed: may_july_chunk_10.csv\n",
            "Processed: may_july_chunk_155.csv\n",
            "Processed: may_july_chunk_253.csv\n",
            "Processed: september_chunk_23.csv\n",
            "Processed: may_july_chunk_2.csv\n",
            "Processed: may_july_chunk_145.csv\n",
            "Processed: may_july_chunk_249.csv\n",
            "Processed: may_july_chunk_18.csv\n",
            "Processed: september_chunk_25.csv\n",
            "Processed: may_july_chunk_149.csv\n",
            "Processed: may_july_chunk_257.csv\n",
            "Processed: may_july_chunk_14.csv\n",
            "Processed: september_chunk_39.csv\n",
            "Processed: may_july_chunk_157.csv\n",
            "Processed: may_july_chunk_243.csv\n",
            "Processed: may_july_chunk_20.csvProcessed: september_chunk_27.csv\n",
            "\n",
            "Processed: may_july_chunk_115.csv\n"
          ]
        },
        {
          "metadata": {
            "tags": null
          },
          "name": "stderr",
          "output_type": "stream",
          "text": [
            "/tmp/ipython-input-2-3775788261.py:15: DtypeWarning: Columns (3,5,7,8,11,12,13,18,20,21,22,23,24,25,30,31) have mixed types. Specify dtype option on import or set low_memory=False.\n",
            "  df = pd.read_csv(path)\n"
          ]
        },
        {
          "metadata": {
            "tags": null
          },
          "name": "stdout",
          "output_type": "stream",
          "text": [
            "Processed: september_chunk_35.csv\n",
            "Processed: may_july_chunk_251.csv\n",
            "Processed: may_july_chunk_8.csv\n",
            "Processed: may_july_chunk_107.csv\n",
            "Processed: september_chunk_22.csv\n",
            "Processed: may_july_chunk_245.csv\n",
            "Processed: may_july_chunk_6.csv\n",
            "Processed: may_july_chunk_119.csv\n",
            "Processed: september_chunk_30.csv\n",
            "Processed: may_july_chunk_255.csv\n"
          ]
        },
        {
          "metadata": {
            "tags": null
          },
          "name": "stderr",
          "output_type": "stream",
          "text": [
            "/tmp/ipython-input-2-3775788261.py:15: DtypeWarning: Columns (23,24,26,27) have mixed types. Specify dtype option on import or set low_memory=False.\n",
            "  df = pd.read_csv(path)\n"
          ]
        },
        {
          "metadata": {
            "tags": null
          },
          "name": "stdout",
          "output_type": "stream",
          "text": [
            "Processed: may_july_chunk_4.csv\n",
            "Processed: may_july_chunk_109.csv\n",
            "Processed: september_chunk_28.csv\n"
          ]
        },
        {
          "metadata": {
            "tags": null
          },
          "name": "stderr",
          "output_type": "stream",
          "text": [
            "/tmp/ipython-input-2-3775788261.py:15: DtypeWarning: Columns (3,5,7,8,11,12,13,18,20,21,22,23,24,25,30,31) have mixed types. Specify dtype option on import or set low_memory=False.\n",
            "  df = pd.read_csv(path)\n"
          ]
        },
        {
          "metadata": {
            "tags": null
          },
          "name": "stdout",
          "output_type": "stream",
          "text": [
            "Processed: september_chunk_34.csv\n",
            "Processed: may_july_chunk_259.csv\n",
            "Processed: october_chunk_24.csv\n",
            "Processed: may_july_chunk_105.csv\n",
            "Processed: september_chunk_32.csv\n",
            "Processed: may_july_chunk_247.csv\n",
            "Processed: october_chunk_22.csv\n",
            "Processed: may_july_chunk_117.csv\n",
            "Processed: september_chunk_26.csv\n",
            "Processed: may_july_chunk_250.csv\n",
            "Processed: october_chunk_21.csv\n",
            "Processed: may_july_chunk_106.csv\n",
            "Processed: september_chunk_36.csv\n",
            "Processed: may_july_chunk_252.csv\n",
            "Processed: october_chunk_23.csv\n",
            "Processed: may_july_chunk_101.csv\n"
          ]
        },
        {
          "metadata": {
            "tags": null
          },
          "name": "stderr",
          "output_type": "stream",
          "text": [
            "/tmp/ipython-input-2-3775788261.py:15: DtypeWarning: Columns (24,26,27) have mixed types. Specify dtype option on import or set low_memory=False.\n",
            "  df = pd.read_csv(path)\n"
          ]
        },
        {
          "metadata": {
            "tags": null
          },
          "name": "stdout",
          "output_type": "stream",
          "text": [
            "Processed: september_chunk_38.csv\n",
            "Processed: may_july_chunk_256.csv\n",
            "Processed: october_chunk_20.csv\n"
          ]
        },
        {
          "metadata": {
            "tags": null
          },
          "name": "stderr",
          "output_type": "stream",
          "text": [
            "/tmp/ipython-input-2-3775788261.py:15: DtypeWarning: Columns (23) have mixed types. Specify dtype option on import or set low_memory=False.\n",
            "  df = pd.read_csv(path)\n"
          ]
        },
        {
          "metadata": {
            "tags": null
          },
          "name": "stdout",
          "output_type": "stream",
          "text": [
            "Processed: may_july_chunk_111.csv\n",
            "Processed: september_chunk_24.csv\n",
            "Processed: may_july_chunk_260.csv\n",
            "Processed: october_chunk_16.csv\n"
          ]
        },
        {
          "metadata": {
            "tags": null
          },
          "name": "stderr",
          "output_type": "stream",
          "text": [
            "/tmp/ipython-input-2-3775788261.py:15: DtypeWarning: Columns (23,24,26,27) have mixed types. Specify dtype option on import or set low_memory=False.\n",
            "  df = pd.read_csv(path)\n"
          ]
        },
        {
          "metadata": {
            "tags": null
          },
          "name": "stdout",
          "output_type": "stream",
          "text": [
            "Processed: may_july_chunk_113.csv\n",
            "Processed: may_july_chunk_244.csv\n",
            "Processed: november_chunk_10.csv\n",
            "Processed: october_chunk_2.csv\n",
            "Processed: may_july_chunk_103.csv\n",
            "Processed: may_july_chunk_248.csv\n",
            "Processed: november_chunk_16.csv\n",
            "Processed: october_chunk_14.csv\n",
            "Processed: may_july_chunk_118.csv\n",
            "Processed: may_july_chunk_242.csv\n",
            "Processed: november_chunk_20.csv\n",
            "Processed: october_chunk_10.csv\n"
          ]
        },
        {
          "metadata": {
            "tags": null
          },
          "name": "stderr",
          "output_type": "stream",
          "text": [
            "/tmp/ipython-input-2-3775788261.py:15: DtypeWarning: Columns (23,24,26,27) have mixed types. Specify dtype option on import or set low_memory=False.\n",
            "  df = pd.read_csv(path)\n"
          ]
        },
        {
          "metadata": {
            "tags": null
          },
          "name": "stdout",
          "output_type": "stream",
          "text": [
            "Processed: may_july_chunk_108.csv\n",
            "Processed: may_july_chunk_246.csv\n",
            "Processed: november_chunk_2.csv\n",
            "Processed: october_chunk_4.csv\n",
            "Processed: may_july_chunk_104.csv\n",
            "Processed: may_july_chunk_254.csv\n",
            "Processed: november_chunk_14.csv\n"
          ]
        },
        {
          "metadata": {
            "tags": null
          },
          "name": "stderr",
          "output_type": "stream",
          "text": [
            "/tmp/ipython-input-2-3775788261.py:15: DtypeWarning: Columns (24,26,27) have mixed types. Specify dtype option on import or set low_memory=False.\n",
            "  df = pd.read_csv(path)\n"
          ]
        },
        {
          "metadata": {
            "tags": null
          },
          "name": "stdout",
          "output_type": "stream",
          "text": [
            "Processed: october_chunk_6.csv\n",
            "Processed: may_july_chunk_112.csv\n",
            "Processed: may_july_chunk_258.csv\n",
            "Processed: november_chunk_18.csv\n",
            "Processed: may_july_chunk_120.csv\n",
            "Processed: october_chunk_12.csv\n",
            "Processed: octobergap_chunk_39.csv\n",
            "Processed: november_chunk_17.csv\n"
          ]
        },
        {
          "metadata": {
            "tags": null
          },
          "name": "stderr",
          "output_type": "stream",
          "text": [
            "/tmp/ipython-input-2-3775788261.py:15: DtypeWarning: Columns (24,26,27) have mixed types. Specify dtype option on import or set low_memory=False.\n",
            "  df = pd.read_csv(path)\n"
          ]
        },
        {
          "metadata": {
            "tags": null
          },
          "name": "stdout",
          "output_type": "stream",
          "text": [
            "Processed: may_july_chunk_114.csv\n",
            "Processed: october_chunk_18.csv\n",
            "Processed: octobergap_chunk_27.csv\n",
            "Processed: november_chunk_4.csv\n",
            "Processed: may_july_chunk_116.csv\n",
            "Processed: octobergap_chunk_37.csv\n",
            "Processed: october_chunk_1.csv\n",
            "Processed: november_chunk_12.csv\n",
            "Processed: octobergap_chunk_25.csv\n",
            "Processed: may_july_chunk_102.csv\n",
            "Processed: october_chunk_8.csv\n",
            "Processed: octobergap_chunk_29.csv\n",
            "Processed: november_chunk_6.csv\n",
            "Processed: may_july_chunk_110.csv\n",
            "Processed: october_chunk_15.csv\n",
            "Processed: octobergap_chunk_33.csv\n",
            "Processed: november_chunk_8.csv\n",
            "Processed: september_chunk_42.csv\n"
          ]
        },
        {
          "metadata": {
            "tags": null
          },
          "name": "stderr",
          "output_type": "stream",
          "text": [
            "/tmp/ipython-input-2-3775788261.py:15: DtypeWarning: Columns (2,5,9,10) have mixed types. Specify dtype option on import or set low_memory=False.\n",
            "  df = pd.read_csv(path)\n"
          ]
        },
        {
          "metadata": {
            "tags": null
          },
          "name": "stdout",
          "output_type": "stream",
          "text": [
            "Processed: september_chunk_52.csv\n",
            "Processed: october_chunk_19.csv\n",
            "Processed: octobergap_chunk_23.csv\n",
            "Processed: november_chunk_19.csv\n",
            "Processed: september_chunk_58.csv\n",
            "Processed: october_chunk_17.csv\n",
            "Processed: octobergap_chunk_40.csv\n",
            "Processed: november_chunk_9.csv\n",
            "Processed: september_chunk_46.csv\n",
            "Processed: september_chunk_50.csv\n",
            "Processed: september_chunk_54.csv\n",
            "Processed: september_chunk_51.csv\n",
            "Processed: october_chunk_9.csv\n",
            "Processed: octobergap_chunk_35.csv\n",
            "Processed: november_chunk_5.csv\n",
            "Processed: september_chunk_60.csv\n",
            "Processed: september_chunk_53.csv\n",
            "Processed: october_chunk_7.csv\n",
            "Processed: octobergap_chunk_21.csv\n",
            "Processed: november_chunk_3.csv\n",
            "Processed: september_chunk_41.csv\n",
            "Processed: october_chunk_13.csv\n",
            "Processed: octobergap_chunk_31.csv\n"
          ]
        },
        {
          "metadata": {
            "tags": null
          },
          "name": "stderr",
          "output_type": "stream",
          "text": [
            "/tmp/ipython-input-2-3775788261.py:15: DtypeWarning: Columns (3,5,7,8,9,10,11,13,18,20,21,22,23,24,25,30,31) have mixed types. Specify dtype option on import or set low_memory=False.\n",
            "  df = pd.read_csv(path)\n"
          ]
        },
        {
          "metadata": {
            "tags": null
          },
          "name": "stdout",
          "output_type": "stream",
          "text": [
            "Processed: september_chunk_55.csv\n",
            "Processed: november_chunk_15.csv\n",
            "Processed: octobergap_chunk_38.csv\n",
            "Processed: october_chunk_3.csv\n",
            "Processed: september_chunk_44.csv\n",
            "Processed: octobergap_chunk_26.csv\n",
            "Processed: november_chunk_1.csv\n",
            "Processed: october_chunk_5.csv\n",
            "Processed: september_chunk_48.csv\n",
            "Processed: octobergap_chunk_24.csv\n",
            "Processed: november_chunk_11.csv\n",
            "Processed: october_chunk_11.csv\n",
            "Processed: octobergap_chunk_28.csv\n",
            "Processed: september_chunk_56.csv\n",
            "Processed: november_chunk_7.csv\n",
            "Processed: may_july_chunk_140.csv\n",
            "Processed: octobergap_chunk_30.csv\n",
            "Processed: september_chunk_43.csv\n",
            "Processed: november_chunk_13.csv\n",
            "Processed: may_july_chunk_121.csv\n",
            "Processed: octobergap_chunk_36.csv\n",
            "Processed: september_chunk_59.csv\n",
            "Processed: may_july_chunk_164.csv\n"
          ]
        },
        {
          "metadata": {
            "tags": null
          },
          "name": "stderr",
          "output_type": "stream",
          "text": [
            "/tmp/ipython-input-2-3775788261.py:15: DtypeWarning: Columns (23,24,26,27) have mixed types. Specify dtype option on import or set low_memory=False.\n",
            "  df = pd.read_csv(path)\n"
          ]
        },
        {
          "metadata": {
            "tags": null
          },
          "name": "stdout",
          "output_type": "stream",
          "text": [
            "Processed: may_july_chunk_131.csv\n",
            "Processed: octobergap_chunk_34.csv\n"
          ]
        },
        {
          "metadata": {
            "tags": null
          },
          "name": "stderr",
          "output_type": "stream",
          "text": [
            "/tmp/ipython-input-2-3775788261.py:15: DtypeWarning: Columns (24,26,27) have mixed types. Specify dtype option on import or set low_memory=False.\n",
            "  df = pd.read_csv(path)\n"
          ]
        },
        {
          "metadata": {
            "tags": null
          },
          "name": "stdout",
          "output_type": "stream",
          "text": [
            "Processed: may_july_chunk_162.csv\n",
            "Processed: may_july_chunk_133.csv\n",
            "Processed: octobergap_chunk_22.csv\n",
            "Processed: may_july_chunk_166.csv\n",
            "Processed: may_july_chunk_123.csv\n",
            "Processed: octobergap_chunk_32.csv\n",
            "Processed: may_july_chunk_168.csv\n",
            "Processed: may_july_chunk_139.csv\n",
            "Processed: aug_chunk_29.csv\n",
            "Processed: may_july_chunk_125.csv\n",
            "Processed: may_july_chunk_137.csv\n",
            "Processed: aug_chunk_37.csv\n",
            "Processed: may_july_chunk_293.csv\n",
            "Processed: aug_chunk_25.csv\n",
            "Processed: may_july_chunk_281.csv\n",
            "\n",
            "Processed: november_chunk_50.csvProcessed: may_july_chunk_291.csv\n",
            "Processed: september_chunk_95.csv\n",
            "Processed: aug_chunk_35.csv\n",
            "Processed: november_chunk_60.csv\n",
            "Processed: september_chunk_91.csv\n",
            "Processed: november_chunk_56.csv\n",
            "Processed: may_july_chunk_283.csv\n",
            "Processed: aug_chunk_39.csv\n",
            "Processed: may_july_chunk_438.csv\n",
            "Processed: september_chunk_81.csv\n",
            "Processed: aug_chunk_40.csv\n",
            "Processed: november_chunk_48.csv\n",
            "Processed: september_chunk_88.csv\n",
            "Processed: aug_chunk_27.csv\n",
            "Processed: may_july_chunk_434.csv\n",
            "Processed: november_chunk_54.csv\n",
            "Processed: september_chunk_82.csv\n",
            "Processed: may_july_chunk_426.csv\n",
            "Processed: aug_chunk_31.csv\n",
            "Processed: september_chunk_98.csv\n",
            "Processed: november_chunk_44.csv\n",
            "Processed: may_july_chunk_424.csv\n",
            "Processed: september_chunk_84.csv\n",
            "Processed: aug_chunk_33.csv\n",
            "Processed: may_july_chunk_428.csv\n",
            "Processed: aug_chunk_23.csv\n",
            "Processed: november_chunk_46.csv\n",
            "Processed: september_chunk_94.csv\n",
            "Processed: may_july_chunk_422.csv\n",
            "Processed: aug_chunk_21.csv\n",
            "Processed: may_july_chunk_436.csv\n",
            "Processed: november_chunk_58.csv\n"
          ]
        },
        {
          "metadata": {
            "tags": null
          },
          "name": "stderr",
          "output_type": "stream",
          "text": [
            "/tmp/ipython-input-2-3775788261.py:15: DtypeWarning: Columns (8,9,10,11,18,24) have mixed types. Specify dtype option on import or set low_memory=False.\n",
            "  df = pd.read_csv(path)\n"
          ]
        },
        {
          "metadata": {
            "tags": null
          },
          "name": "stdout",
          "output_type": "stream",
          "text": [
            "Processed: september_chunk_90.csv\n",
            "Processed: aug_chunk_28.csv\n"
          ]
        },
        {
          "metadata": {
            "tags": null
          },
          "name": "stderr",
          "output_type": "stream",
          "text": [
            "/tmp/ipython-input-2-3775788261.py:15: DtypeWarning: Columns (2,5,9,10) have mixed types. Specify dtype option on import or set low_memory=False.\n",
            "  df = pd.read_csv(path)\n"
          ]
        },
        {
          "metadata": {
            "tags": null
          },
          "name": "stdout",
          "output_type": "stream",
          "text": [
            "Processed: september_chunk_86.csv\n",
            "Processed: aug_chunk_11.csv\n",
            "Processed: may_july_chunk_427.csv\n",
            "Processed: september_chunk_96.csv\n",
            "Processed: aug_chunk_36.csv\n",
            "Processed: may_july_chunk_430.csv\n",
            "Processed: september_chunk_92.csv\n",
            "Processed: aug_chunk_3.csv\n",
            "Processed: may_july_chunk_432.csv\n",
            "Processed: aug_chunk_24.csv\n",
            "Processed: september_chunk_76.csv\n",
            "Processed: aug_chunk_13.csv\n",
            "Processed: may_july_chunk_425.csv\n",
            "Processed: aug_chunk_22.csv\n",
            "Processed: september_chunk_78.csv\n",
            "Processed: aug_chunk_30.csv\n",
            "Processed: may_july_chunk_435.csv\n",
            "Processed: aug_chunk_1.csv\n",
            "Processed: september_chunk_64.csv\n",
            "Processed: aug_chunk_32.csv\n",
            "Processed: may_july_chunk_429.csv\n",
            "Processed: aug_chunk_7.csv\n",
            "Processed: september_chunk_74.csv\n",
            "Processed: aug_chunk_26.csv\n",
            "Processed: september_chunk_66.csv\n",
            "Processed: may_july_chunk_437.csv\n",
            "Processed: aug_chunk_9.csv\n",
            "Processed: aug_chunk_38.csv\n",
            "Processed: aug_chunk_17.csv\n",
            "Processed: september_chunk_68.csv\n",
            "Processed: may_july_chunk_421.csv\n",
            "Processed: aug_chunk_34.csv\n",
            "Processed: aug_chunk_5.csv\n",
            "Processed: may_july_chunk_440.csv\n",
            "Processed: september_chunk_70.csv\n",
            "Processed: may_july_chunk_439.csv\n"
          ]
        },
        {
          "metadata": {
            "tags": null
          },
          "name": "stderr",
          "output_type": "stream",
          "text": [
            "/tmp/ipython-input-2-3775788261.py:15: DtypeWarning: Columns (6,7,8,9,12,17,22) have mixed types. Specify dtype option on import or set low_memory=False.\n",
            "  df = pd.read_csv(path)\n"
          ]
        },
        {
          "metadata": {
            "tags": null
          },
          "name": "stdout",
          "output_type": "stream",
          "text": [
            "Processed: may_july_chunk_232.csv\n",
            "Processed: aug_chunk_15.csv\n"
          ]
        },
        {
          "metadata": {
            "tags": null
          },
          "name": "stderr",
          "output_type": "stream",
          "text": [
            "/tmp/ipython-input-2-3775788261.py:15: DtypeWarning: Columns (3,5,7,8,11,12,13,18,20,21,22,23,24,25,30,31) have mixed types. Specify dtype option on import or set low_memory=False.\n",
            "  df = pd.read_csv(path)\n"
          ]
        },
        {
          "metadata": {
            "tags": null
          },
          "name": "stdout",
          "output_type": "stream",
          "text": [
            "Processed: september_chunk_77.csv\n",
            "Processed: may_july_chunk_423.csv\n",
            "Processed: may_july_chunk_226.csv\n",
            "Processed: aug_chunk_19.csv\n",
            "Processed: may_july_chunk_433.csv\n",
            "Processed: september_chunk_69.csv\n",
            "Processed: may_july_chunk_431.csv\n",
            "Processed: aug_chunk_14.csv\n",
            "Processed: may_july_chunk_238.csv\n",
            "Processed: september_chunk_67.csv\n",
            "Processed: aug_chunk_18.csv\n",
            "Processed: aug_chunk_54.csv\n",
            "Processed: september_chunk_72.csv\n"
          ]
        },
        {
          "metadata": {
            "tags": null
          },
          "name": "stderr",
          "output_type": "stream",
          "text": [
            "/tmp/ipython-input-2-3775788261.py:15: DtypeWarning: Columns (23,24,26,27) have mixed types. Specify dtype option on import or set low_memory=False.\n",
            "  df = pd.read_csv(path)\n"
          ]
        },
        {
          "metadata": {
            "tags": null
          },
          "name": "stdout",
          "output_type": "stream",
          "text": [
            "Processed: may_july_chunk_234.csv\n",
            "Processed: aug_chunk_2.csv\n",
            "Processed: aug_chunk_58.csv\n",
            "Processed: september_chunk_65.csv\n",
            "Processed: may_july_chunk_230.csv\n",
            "Processed: aug_chunk_12.csv\n",
            "Processed: aug_chunk_46.csv\n"
          ]
        },
        {
          "metadata": {
            "tags": null
          },
          "name": "stderr",
          "output_type": "stream",
          "text": [
            "/tmp/ipython-input-2-3775788261.py:15: DtypeWarning: Columns (23,24,26,27) have mixed types. Specify dtype option on import or set low_memory=False.\n",
            "  df = pd.read_csv(path)\n"
          ]
        },
        {
          "metadata": {
            "tags": null
          },
          "name": "stdout",
          "output_type": "stream",
          "text": [
            "Processed: may_july_chunk_222.csv\n",
            "Processed: september_chunk_62.csv\n",
            "Processed: aug_chunk_48.csv\n",
            "Processed: aug_chunk_10.csv\n"
          ]
        },
        {
          "metadata": {
            "tags": null
          },
          "name": "stderr",
          "output_type": "stream",
          "text": [
            "/tmp/ipython-input-2-3775788261.py:15: DtypeWarning: Columns (23,24,26,27) have mixed types. Specify dtype option on import or set low_memory=False.\n",
            "  df = pd.read_csv(path)\n"
          ]
        },
        {
          "metadata": {
            "tags": null
          },
          "name": "stdout",
          "output_type": "stream",
          "text": [
            "Processed: may_july_chunk_224.csv\n",
            "Processed: aug_chunk_6.csv\n",
            "Processed: september_chunk_79.csv\n",
            "Processed: aug_chunk_52.csv\n",
            "Processed: may_july_chunk_233.csv\n",
            "Processed: september_chunk_63.csv\n",
            "Processed: aug_chunk_16.csv\n",
            "Processed: aug_chunk_60.csv\n",
            "Processed: september_chunk_71.csv\n",
            "Processed: may_july_chunk_240.csv\n",
            "Processed: aug_chunk_8.csv\n",
            "Processed: aug_chunk_42.csv\n",
            "Processed: september_chunk_75.csv\n",
            "Processed: may_july_chunk_236.csv\n",
            "Processed: aug_chunk_4.csv\n",
            "Processed: aug_chunk_44.csv\n",
            "Processed: september_chunk_61.csv\n"
          ]
        },
        {
          "metadata": {
            "tags": null
          },
          "name": "stderr",
          "output_type": "stream",
          "text": [
            "/tmp/ipython-input-2-3775788261.py:15: DtypeWarning: Columns (23,24,26,27) have mixed types. Specify dtype option on import or set low_memory=False.\n",
            "  df = pd.read_csv(path)\n"
          ]
        },
        {
          "metadata": {
            "tags": null
          },
          "name": "stdout",
          "output_type": "stream",
          "text": [
            "Processed: may_july_chunk_228.csv\n",
            "Processed: aug_chunk_20.csv\n",
            "Processed: aug_chunk_56.csv\n",
            "Processed: september_chunk_80.csv\n",
            "Processed: may_july_chunk_221.csv\n",
            "Processed: november_chunk_32.csv\n",
            "Processed: november_chunk_22.csv\n",
            "Processed: aug_chunk_47.csv\n",
            "Processed: september_chunk_73.csv\n",
            "Processed: may_july_chunk_231.csv\n",
            "Processed: november_chunk_30.csv\n"
          ]
        },
        {
          "metadata": {
            "tags": null
          },
          "name": "stderr",
          "output_type": "stream",
          "text": [
            "/tmp/ipython-input-2-3775788261.py:15: DtypeWarning: Columns (23,24,26,27) have mixed types. Specify dtype option on import or set low_memory=False.\n",
            "  df = pd.read_csv(path)\n"
          ]
        },
        {
          "metadata": {
            "tags": null
          },
          "name": "stdout",
          "output_type": "stream",
          "text": [
            "Processed: aug_chunk_55.csv\n",
            "Processed: september_chunk_103.csv\n",
            "Processed: may_july_chunk_237.csv\n",
            "Processed: november_chunk_38.csv\n",
            "Processed: aug_chunk_49.csv\n",
            "Processed: september_chunk_111.csv\n",
            "Processed: may_july_chunk_227.csv\n",
            "Processed: november_chunk_24.csv\n",
            "Processed: may_july_chunk_235.csv\n",
            "Processed: september_chunk_113.csv\n",
            "Processed: aug_chunk_45.csv\n",
            "Processed: may_july_chunk_239.csv\n",
            "Processed: november_chunk_34.csv\n",
            "Processed: aug_chunk_50.csv\n",
            "Processed: september_chunk_115.csv\n",
            "Processed: november_chunk_21.csv\n",
            "Processed: may_july_chunk_223.csv\n",
            "Processed: aug_chunk_59.csv\n"
          ]
        },
        {
          "metadata": {
            "tags": null
          },
          "name": "stderr",
          "output_type": "stream",
          "text": [
            "/tmp/ipython-input-2-3775788261.py:15: DtypeWarning: Columns (23,24,26,27) have mixed types. Specify dtype option on import or set low_memory=False.\n",
            "  df = pd.read_csv(path)\n"
          ]
        },
        {
          "metadata": {
            "tags": null
          },
          "name": "stdout",
          "output_type": "stream",
          "text": [
            "Processed: september_chunk_101.csv\n",
            "Processed: may_july_chunk_225.csv\n",
            "Processed: aug_chunk_57.csv\n",
            "Processed: november_chunk_28.csv\n",
            "Processed: september_chunk_109.csv\n",
            "Processed: may_july_chunk_229.csv\n",
            "Processed: aug_chunk_51.csv\n",
            "Processed: november_chunk_36.csv\n",
            "Processed: september_chunk_107.csv\n",
            "Processed: may_july_chunk_284.csv\n",
            "Processed: may_july_chunk_294.csv\n",
            "Processed: aug_chunk_53.csv\n",
            "Processed: september_chunk_102.csv\n",
            "Processed: november_chunk_26.csv\n"
          ]
        },
        {
          "metadata": {
            "tags": null
          },
          "name": "stderr",
          "output_type": "stream",
          "text": [
            "/tmp/ipython-input-2-3775788261.py:15: DtypeWarning: Columns (5) have mixed types. Specify dtype option on import or set low_memory=False.\n",
            "  df = pd.read_csv(path)\n"
          ]
        },
        {
          "metadata": {
            "tags": null
          },
          "name": "stdout",
          "output_type": "stream",
          "text": [
            "Processed: september_chunk_119.csv\n"
          ]
        },
        {
          "metadata": {
            "tags": null
          },
          "name": "stderr",
          "output_type": "stream",
          "text": [
            "/tmp/ipython-input-2-3775788261.py:15: DtypeWarning: Columns (23) have mixed types. Specify dtype option on import or set low_memory=False.\n",
            "  df = pd.read_csv(path)\n"
          ]
        },
        {
          "metadata": {
            "tags": null
          },
          "name": "stdout",
          "output_type": "stream",
          "text": [
            "Processed: may_july_chunk_296.csv\n",
            "Processed: aug_chunk_43.csv\n",
            "Processed: may_july_chunk_286.csv\n",
            "Processed: september_chunk_112.csv\n",
            "Processed: november_chunk_23.csv\n",
            "Processed: aug_chunk_41.csv\n",
            "Processed: september_chunk_110.csv\n",
            "Processed: may_july_chunk_298.csv\n",
            "Processed: november_chunk_31.csv\n",
            "Processed: september_chunk_105.csv\n",
            "Processed: november_chunk_43.csv\n",
            "Processed: may_july_chunk_290.csv\n",
            "Processed: september_chunk_117.csv\n",
            "Processed: september_chunk_104.csv\n",
            "Processed: may_july_chunk_292.csv\n",
            "Processed: november_chunk_27.csv\n",
            "Processed: november_chunk_57.csv\n",
            "Processed: november_chunk_33.csv\n",
            "Processed: may_july_chunk_300.csv\n",
            "Processed: september_chunk_116.csv\n",
            "Processed: september_chunk_118.csv\n",
            "Processed: november_chunk_53.csv\n",
            "Processed: november_chunk_39.csv\n",
            "Processed: may_july_chunk_288.csv\n",
            "Processed: september_chunk_114.csv\n",
            "Processed: november_chunk_49.csv\n",
            "Processed: november_chunk_40.csv\n",
            "Processed: november_chunk_45.csv\n",
            "Processed: may_july_chunk_282.csv\n",
            "Processed: september_chunk_108.csv\n",
            "Processed: november_chunk_37.csv\n",
            "Processed: may_july_chunk_295.csv\n",
            "Processed: november_chunk_51.csv\n",
            "Processed: november_chunk_35.csv\n",
            "Processed: september_chunk_106.csv\n",
            "Processed: may_july_chunk_285.csv\n",
            "Processed: september_chunk_120.csv\n",
            "Processed: november_chunk_29.csv\n",
            "Processed: november_chunk_41.csv\n",
            "Processed: may_july_chunk_287.csv\n",
            "Processed: september_chunk_137.csv\n",
            "Processed: september_chunk_129.csv\n",
            "Processed: november_chunk_25.csv\n"
          ]
        },
        {
          "metadata": {
            "tags": null
          },
          "name": "stderr",
          "output_type": "stream",
          "text": [
            "/tmp/ipython-input-2-3775788261.py:15: DtypeWarning: Columns (23,24,26,27) have mixed types. Specify dtype option on import or set low_memory=False.\n",
            "  df = pd.read_csv(path)\n"
          ]
        },
        {
          "output_type": "stream",
          "name": "stdout",
          "text": [
            "Processed: may_july_chunk_299.csv\n",
            "Processed: november_chunk_42.csv\n",
            "Processed: september_chunk_97.csv\n",
            "Processed: september_chunk_127.csv\n",
            "Processed: november_chunk_52.csv\n",
            "Processed: may_july_chunk_289.csv\n",
            "Processed: september_chunk_123.csv\n",
            "Processed: may_july_chunk_297.csv\n",
            "Processed: september_chunk_99.csv\n",
            "Processed: september_chunk_87.csv\n",
            "Processed: november_chunk_55.csv\n",
            "Processed: september_chunk_85.csv\n",
            "Processed: september_chunk_135.csv\n",
            "Processed: september_chunk_89.csv\n",
            "Processed: september_chunk_131.csv\n"
          ]
        },
        {
          "output_type": "stream",
          "name": "stderr",
          "text": [
            "/tmp/ipython-input-2-3775788261.py:15: DtypeWarning: Columns (5) have mixed types. Specify dtype option on import or set low_memory=False.\n",
            "  df = pd.read_csv(path)\n"
          ]
        },
        {
          "output_type": "stream",
          "name": "stdout",
          "text": [
            "Processed: september_chunk_133.csv\n",
            "Processed: november_chunk_59.csv\n",
            "Processed: september_chunk_93.csv\n",
            "Processed: september_chunk_140.csv\n",
            "Processed: octobergap_chunk_46.csv\n",
            "Processed: november_chunk_47.csv\n",
            "Processed: september_chunk_100.csv\n",
            "Processed: september_chunk_125.csv\n",
            "Processed: september_chunk_83.csv\n",
            "Processed: octobergap_chunk_44.csv\n",
            "Processed: september_chunk_139.csv\n",
            "Processed: octobergap_chunk_42.csv\n",
            "Processed: may_july_chunk_359.csv\n"
          ]
        },
        {
          "output_type": "stream",
          "name": "stderr",
          "text": [
            "/tmp/ipython-input-2-3775788261.py:15: DtypeWarning: Columns (8,9,10,11,18,24) have mixed types. Specify dtype option on import or set low_memory=False.\n",
            "  df = pd.read_csv(path)\n"
          ]
        },
        {
          "output_type": "stream",
          "name": "stdout",
          "text": [
            "Processed: september_chunk_136.csv\n",
            "Processed: september_chunk_121.csv\n",
            "Processed: may_july_chunk_350.csv\n",
            "Processed: november_chunk_73.csv\n",
            "Processed: octobergap_chunk_45.csv\n",
            "Processed: octobergap_chunk_47.csv\n",
            "Processed: september_chunk_126.csv\n",
            "Processed: may_july_chunk_347.csv\n",
            "Processed: november_chunk_61.csv\n",
            "Processed: octobergap_chunk_41.csv\n",
            "Processed: september_chunk_130.csv\n",
            "Processed: november_chunk_65.csv\n",
            "Processed: may_july_chunk_344.csv\n",
            "Processed: octobergap_chunk_43.csv\n",
            "Processed: september_chunk_128.csv\n",
            "Processed: november_chunk_69.csv\n"
          ]
        },
        {
          "output_type": "stream",
          "name": "stderr",
          "text": [
            "/tmp/ipython-input-2-3775788261.py:15: DtypeWarning: Columns (3,5,7,9,10,11,13,18,20,21,22,23,24,25,30,31) have mixed types. Specify dtype option on import or set low_memory=False.\n",
            "  df = pd.read_csv(path)\n"
          ]
        },
        {
          "output_type": "stream",
          "name": "stdout",
          "text": [
            "Processed: september_chunk_122.csv\n",
            "Processed: september_chunk_134.csv\n",
            "Processed: may_july_chunk_348.csv\n",
            "Processed: september_chunk_132.csv\n",
            "Processed: may_july_chunk_267.csv\n",
            "Processed: november_chunk_71.csv\n",
            "Processed: may_july_chunk_352.csv\n",
            "Processed: september_chunk_124.csv\n",
            "Processed: may_july_chunk_275.csv\n",
            "Processed: november_chunk_74.csv\n",
            "Processed: september_chunk_138.csv\n",
            "Processed: may_july_chunk_360.csv\n",
            "Processed: may_july_chunk_273.csv\n",
            "Processed: may_july_chunk_27.csv\n",
            "Processed: november_chunk_78.csv\n",
            "Processed: may_july_chunk_277.csv\n",
            "Processed: may_july_chunk_356.csv\n",
            "Processed: may_july_chunk_39.csv\n",
            "Processed: november_chunk_66.csv\n",
            "Processed: may_july_chunk_358.csv\n",
            "Processed: may_july_chunk_269.csv\n",
            "Processed: may_july_chunk_354.csv\n",
            "Processed: may_july_chunk_25.csv\n",
            "Processed: november_chunk_68.csv\n",
            "Processed: may_july_chunk_280.csv\n",
            "Processed: november_chunk_63.csv\n",
            "Processed: may_july_chunk_35.csv\n",
            "Processed: may_july_chunk_346.csv\n",
            "Processed: may_july_chunk_265.csv\n",
            "Processed: november_chunk_76.csv\n"
          ]
        },
        {
          "output_type": "stream",
          "name": "stderr",
          "text": [
            "/tmp/ipython-input-2-3775788261.py:15: DtypeWarning: Columns (6,7,8,9,17,22) have mixed types. Specify dtype option on import or set low_memory=False.\n",
            "  df = pd.read_csv(path)\n"
          ]
        },
        {
          "output_type": "stream",
          "name": "stdout",
          "text": [
            "Processed: may_july_chunk_386.csv\n",
            "Processed: may_july_chunk_37.csv\n",
            "Processed: november_chunk_70.csv\n",
            "Processed: may_july_chunk_279.csv\n",
            "Processed: may_july_chunk_21.csv\n",
            "Processed: november_chunk_64.csv\n",
            "Processed: may_july_chunk_394.csv\n",
            "Processed: may_july_chunk_400.csv\n",
            "Processed: may_july_chunk_271.csv\n",
            "Processed: november_chunk_72.csv\n",
            "Processed: may_july_chunk_23.csv\n",
            "Processed: may_july_chunk_278.csv\n",
            "Processed: november_chunk_62.csv\n",
            "Processed: may_july_chunk_398.csv\n",
            "Processed: may_july_chunk_261.csv\n",
            "Processed: september_chunk_7.csv\n",
            "Processed: may_july_chunk_31.csv\n",
            "Processed: may_july_chunk_396.csv\n",
            "Processed: september_chunk_19.csv\n",
            "Processed: may_july_chunk_263.csv\n",
            "Processed: may_july_chunk_29.csv\n",
            "Processed: may_july_chunk_274.csv\n",
            "Processed: september_chunk_5.csv\n",
            "Processed: may_july_chunk_392.csv\n",
            "Processed: may_july_chunk_33.csv\n",
            "Processed: may_july_chunk_384.csv\n"
          ]
        },
        {
          "output_type": "stream",
          "name": "stderr",
          "text": [
            "/tmp/ipython-input-2-3775788261.py:15: DtypeWarning: Columns (23,24,26,27) have mixed types. Specify dtype option on import or set low_memory=False.\n",
            "  df = pd.read_csv(path)\n"
          ]
        },
        {
          "output_type": "stream",
          "name": "stdout",
          "text": [
            "Processed: may_july_chunk_268.csv\n",
            "Processed: september_chunk_9.csv\n",
            "Processed: may_july_chunk_40.csv\n"
          ]
        },
        {
          "output_type": "stream",
          "name": "stderr",
          "text": [
            "/tmp/ipython-input-2-3775788261.py:15: DtypeWarning: Columns (24,26,27) have mixed types. Specify dtype option on import or set low_memory=False.\n",
            "  df = pd.read_csv(path)\n"
          ]
        },
        {
          "output_type": "stream",
          "name": "stdout",
          "text": [
            "Processed: may_july_chunk_272.csv\n",
            "Processed: may_july_chunk_388.csv\n",
            "Processed: september_chunk_15.csv\n",
            "Processed: may_july_chunk_36.csv\n",
            "Processed: may_july_chunk_276.csv\n",
            "Processed: may_july_chunk_38.csv\n",
            "Processed: may_july_chunk_399.csv\n",
            "Processed: september_chunk_17.csv\n",
            "Processed: may_july_chunk_266.csv\n",
            "Processed: may_july_chunk_26.csv\n",
            "Processed: may_july_chunk_390.csv\n",
            "Processed: september_chunk_6.csv\n",
            "Processed: may_july_chunk_262.csv\n",
            "Processed: may_july_chunk_34.csv\n",
            "Processed: may_july_chunk_387.csv\n",
            "Processed: september_chunk_11.csv\n",
            "Processed: may_july_chunk_264.csv\n",
            "Processed: may_july_chunk_28.csv\n",
            "Processed: may_july_chunk_385.csv\n"
          ]
        },
        {
          "output_type": "stream",
          "name": "stderr",
          "text": [
            "/tmp/ipython-input-2-3775788261.py:15: DtypeWarning: Columns (23,24,26,27) have mixed types. Specify dtype option on import or set low_memory=False.\n",
            "  df = pd.read_csv(path)\n"
          ]
        },
        {
          "output_type": "stream",
          "name": "stdout",
          "text": [
            "Processed: may_july_chunk_270.csv\n",
            "Processed: september_chunk_3.csv\n",
            "Processed: may_july_chunk_24.csv\n",
            "Processed: may_july_chunk_395.csv\n",
            "Processed: may_july_chunk_58.csv\n",
            "Processed: may_july_chunk_382.csv\n",
            "Processed: september_chunk_1.csv\n",
            "Processed: may_july_chunk_32.csv\n",
            "Processed: september_chunk_13.csv\n",
            "Processed: may_july_chunk_22.csv\n",
            "Processed: may_july_chunk_397.csv\n",
            "Processed: may_july_chunk_60.csv\n",
            "Processed: september_chunk_4.csv\n",
            "Processed: may_july_chunk_30.csv\n",
            "Processed: may_july_chunk_56.csv\n",
            "Processed: may_july_chunk_383.csv\n",
            "Processed: may_july_chunk_74.csv\n",
            "Processed: september_chunk_8.csv\n",
            "Processed: may_july_chunk_381.csv\n"
          ]
        },
        {
          "output_type": "stream",
          "name": "stderr",
          "text": [
            "/tmp/ipython-input-2-3775788261.py:15: DtypeWarning: Columns (13,14,15,16,17,22,24,26,27) have mixed types. Specify dtype option on import or set low_memory=False.\n",
            "  df = pd.read_csv(path)\n"
          ]
        },
        {
          "output_type": "stream",
          "name": "stdout",
          "text": [
            "Processed: may_july_chunk_70.csv\n",
            "Processed: september_chunk_18.csv\n",
            "Processed: may_july_chunk_46.csv\n",
            "Processed: september_chunk_20.csv\n",
            "Processed: may_july_chunk_393.csv\n",
            "Processed: may_july_chunk_72.csv\n"
          ]
        },
        {
          "output_type": "stream",
          "name": "stderr",
          "text": [
            "/tmp/ipython-input-2-3775788261.py:15: DtypeWarning: Columns (23,24,26,27) have mixed types. Specify dtype option on import or set low_memory=False.\n",
            "  df = pd.read_csv(path)\n"
          ]
        },
        {
          "output_type": "stream",
          "name": "stdout",
          "text": [
            "Processed: may_july_chunk_48.csv\n",
            "Processed: september_chunk_16.csv\n",
            "Processed: may_july_chunk_389.csv\n",
            "Processed: may_july_chunk_62.csv\n",
            "Processed: may_july_chunk_44.csv\n",
            "Processed: september_chunk_14.csv\n",
            "Processed: may_july_chunk_391.csv\n",
            "Processed: may_july_chunk_76.csv\n",
            "Processed: octobergap_chunk_13.csv\n",
            "Processed: may_july_chunk_57.csv\n",
            "Processed: september_chunk_2.csv\n",
            "Processed: may_july_chunk_80.csv\n",
            "Processed: octobergap_chunk_6.csv\n",
            "Processed: september_chunk_10.csv\n",
            "Processed: may_july_chunk_52.csv\n",
            "Processed: may_july_chunk_64.csv\n",
            "Processed: octobergap_chunk_4.csv\n",
            "Processed: september_chunk_12.csv\n",
            "Processed: may_july_chunk_49.csv\n"
          ]
        },
        {
          "output_type": "stream",
          "name": "stderr",
          "text": [
            "/tmp/ipython-input-2-3775788261.py:15: DtypeWarning: Columns (24,26,27) have mixed types. Specify dtype option on import or set low_memory=False.\n",
            "  df = pd.read_csv(path)\n"
          ]
        },
        {
          "output_type": "stream",
          "name": "stdout",
          "text": [
            "Processed: may_july_chunk_68.csv\n",
            "Processed: octobergap_chunk_8.csv\n",
            "Processed: may_july_chunk_216.csv\n",
            "Processed: may_july_chunk_54.csv\n",
            "Processed: may_july_chunk_66.csv\n",
            "Processed: octobergap_chunk_15.csv\n",
            "Processed: may_july_chunk_218.csv\n"
          ]
        },
        {
          "output_type": "stream",
          "name": "stderr",
          "text": [
            "/tmp/ipython-input-2-3775788261.py:15: DtypeWarning: Columns (23,24,26,27) have mixed types. Specify dtype option on import or set low_memory=False.\n",
            "  df = pd.read_csv(path)\n"
          ]
        },
        {
          "output_type": "stream",
          "name": "stdout",
          "text": [
            "Processed: may_july_chunk_50.csv\n",
            "Processed: may_july_chunk_78.csv\n",
            "Processed: may_july_chunk_220.csv\n",
            "Processed: octobergap_chunk_19.csv\n",
            "Processed: may_july_chunk_42.csv\n",
            "Processed: may_july_chunk_63.csv\n",
            "Processed: octobergap_chunk_2.csv\n",
            "Processed: may_july_chunk_208.csv\n",
            "Processed: octobergap_chunk_9.csv\n",
            "Processed: may_july_chunk_71.csv\n",
            "Processed: may_july_chunk_43.csv\n",
            "Processed: octobergap_chunk_17.csv\n",
            "Processed: may_july_chunk_204.csv\n",
            "Processed: may_july_chunk_73.csv\n",
            "Processed: may_july_chunk_59.csv\n",
            "Processed: octobergap_chunk_11.csv\n",
            "Processed: may_july_chunk_61.csv\n",
            "Processed: may_july_chunk_47.csv\n",
            "Processed: may_july_chunk_206.csv\n",
            "Processed: octobergap_chunk_5.csv\n",
            "Processed: may_july_chunk_210.csv\n",
            "Processed: may_july_chunk_55.csv\n",
            "Processed: may_july_chunk_75.csv\n",
            "Processed: octobergap_chunk_7.csv\n",
            "Processed: may_july_chunk_51.csv\n",
            "Processed: may_july_chunk_67.csv\n",
            "Processed: may_july_chunk_202.csv\n",
            "Processed: octobergap_chunk_12.csv\n",
            "Processed: may_july_chunk_45.csv\n",
            "Processed: may_july_chunk_79.csv\n",
            "Processed: may_july_chunk_209.csv\n",
            "Processed: octobergap_chunk_18.csv\n",
            "Processed: may_july_chunk_41.csv\n",
            "Processed: may_july_chunk_65.csv\n",
            "Processed: octobergap_chunk_14.csv\n",
            "Processed: may_july_chunk_53.csv\n",
            "Processed: may_july_chunk_214.csv\n"
          ]
        },
        {
          "output_type": "stream",
          "name": "stderr",
          "text": [
            "/tmp/ipython-input-2-3775788261.py:15: DtypeWarning: Columns (23,24,26,27) have mixed types. Specify dtype option on import or set low_memory=False.\n",
            "  df = pd.read_csv(path)\n"
          ]
        },
        {
          "output_type": "stream",
          "name": "stdout",
          "text": [
            "Processed: may_july_chunk_69.csv\n",
            "Processed: octobergap_chunk_1.csv\n",
            "Processed: may_july_chunk_217.csv\n",
            "Processed: may_july_chunk_357.csv\n",
            "Processed: octobergap_chunk_10.csv\n",
            "Processed: may_july_chunk_77.csv\n"
          ]
        },
        {
          "output_type": "stream",
          "name": "stderr",
          "text": [
            "/tmp/ipython-input-2-3775788261.py:15: DtypeWarning: Columns (23,24,26,27) have mixed types. Specify dtype option on import or set low_memory=False.\n",
            "  df = pd.read_csv(path)\n"
          ]
        },
        {
          "output_type": "stream",
          "name": "stdout",
          "text": [
            "Processed: may_july_chunk_212.csv\n",
            "Processed: octobergap_chunk_3.csv\n",
            "Processed: may_july_chunk_353.csv\n",
            "Processed: may_july_chunk_203.csv\n",
            "Processed: may_july_chunk_349.csv\n",
            "Processed: octobergap_chunk_16.csv\n",
            "Processed: november_chunk_102.csv\n",
            "Processed: may_july_chunk_215.csv\n",
            "Processed: november_chunk_103.csv\n",
            "Processed: octobergap_chunk_20.csv\n",
            "Processed: may_july_chunk_343.csv\n",
            "Processed: november_chunk_112.csv\n",
            "Processed: may_july_chunk_205.csv\n",
            "Processed: november_chunk_67.csv\n",
            "Processed: may_july_chunk_351.csv\n",
            "Processed: november_chunk_104.csv\n",
            "Processed: november_chunk_77.csv\n"
          ]
        },
        {
          "output_type": "stream",
          "name": "stderr",
          "text": [
            "/tmp/ipython-input-2-3775788261.py:15: DtypeWarning: Columns (6,7,8,9,12,17,22) have mixed types. Specify dtype option on import or set low_memory=False.\n",
            "  df = pd.read_csv(path)\n"
          ]
        },
        {
          "output_type": "stream",
          "name": "stdout",
          "text": [
            "Processed: may_july_chunk_207.csv\n",
            "Processed: may_july_chunk_341.csv\n",
            "Processed: november_chunk_108.csv\n",
            "Processed: may_july_chunk_219.csv\n",
            "Processed: november_chunk_79.csv\n",
            "Processed: november_chunk_106.csv\n",
            "Processed: may_july_chunk_342.csv\n"
          ]
        },
        {
          "output_type": "stream",
          "name": "stderr",
          "text": [
            "/tmp/ipython-input-2-3775788261.py:15: DtypeWarning: Columns (23) have mixed types. Specify dtype option on import or set low_memory=False.\n",
            "  df = pd.read_csv(path)\n"
          ]
        },
        {
          "output_type": "stream",
          "name": "stdout",
          "text": [
            "Processed: may_july_chunk_211.csv\n",
            "Processed: november_chunk_75.csv\n",
            "Processed: november_chunk_107.csv\n",
            "Processed: november_chunk_80.csv\n",
            "Processed: may_july_chunk_355.csv\n",
            "Processed: may_july_chunk_201.csv\n",
            "Processed: november_chunk_105.csv\n"
          ]
        },
        {
          "output_type": "stream",
          "name": "stderr",
          "text": [
            "/tmp/ipython-input-2-3775788261.py:15: DtypeWarning: Columns (6,7,8,9,17,22) have mixed types. Specify dtype option on import or set low_memory=False.\n",
            "  df = pd.read_csv(path)\n"
          ]
        },
        {
          "output_type": "stream",
          "name": "stdout",
          "text": [
            "Processed: may_july_chunk_345.csv\n",
            "Processed: may_july_chunk_213.csv\n",
            "Processed: november_chunk_111.csv\n",
            "Processed: november_chunk_110.csv\n",
            "Processed: may_july_chunk_304.csv\n",
            "Processed: aug_chunk_102.csv\n",
            "Processed: may_july_chunk_314.csv\n",
            "Processed: november_chunk_101.csv\n",
            "Processed: may_july_chunk_318.csv\n",
            "Processed: aug_chunk_112.csv\n",
            "Processed: november_chunk_109.csv\n",
            "Processed: may_july_chunk_192.csv\n",
            "Processed: may_july_chunk_310.csv\n",
            "Processed: november_chunk_113.csv\n",
            "Processed: aug_chunk_106.csv\n",
            "Processed: may_july_chunk_410.csv\n",
            "Processed: may_july_chunk_309.csv\n",
            "Processed: aug_chunk_100.csv\n",
            "Processed: aug_chunk_108.csv\n",
            "Processed: may_july_chunk_412.csv\n",
            "Processed: may_july_chunk_305.csv\n",
            "Processed: aug_chunk_114.csv\n",
            "Processed: aug_chunk_91.csv\n"
          ]
        },
        {
          "output_type": "stream",
          "name": "stderr",
          "text": [
            "/tmp/ipython-input-2-3775788261.py:15: DtypeWarning: Columns (21,22,30) have mixed types. Specify dtype option on import or set low_memory=False.\n",
            "  df = pd.read_csv(path)\n"
          ]
        },
        {
          "output_type": "stream",
          "name": "stdout",
          "text": [
            "Processed: may_july_chunk_418.csv\n"
          ]
        },
        {
          "output_type": "stream",
          "name": "stderr",
          "text": [
            "/tmp/ipython-input-2-3775788261.py:15: DtypeWarning: Columns (24,26,27) have mixed types. Specify dtype option on import or set low_memory=False.\n",
            "  df = pd.read_csv(path)\n"
          ]
        },
        {
          "output_type": "stream",
          "name": "stdout",
          "text": [
            "Processed: may_july_chunk_302.csv\n",
            "Processed: aug_chunk_104.csv\n",
            "Processed: aug_chunk_83.csv\n",
            "Processed: may_july_chunk_402.csv\n",
            "Processed: may_july_chunk_317.csv\n",
            "Processed: aug_chunk_116.csv\n"
          ]
        },
        {
          "output_type": "stream",
          "name": "stderr",
          "text": [
            "/tmp/ipython-input-2-3775788261.py:15: DtypeWarning: Columns (23) have mixed types. Specify dtype option on import or set low_memory=False.\n",
            "  df = pd.read_csv(path)\n"
          ]
        },
        {
          "output_type": "stream",
          "name": "stdout",
          "text": [
            "Processed: may_july_chunk_401.csv\n",
            "Processed: aug_chunk_97.csv\n",
            "Processed: aug_chunk_110.csv\n",
            "Processed: may_july_chunk_312.csv\n",
            "Processed: may_july_chunk_414.csv\n",
            "Processed: aug_chunk_93.csv\n",
            "Processed: may_july_chunk_319.csv\n",
            "Processed: aug_chunk_115.csv\n",
            "Processed: aug_chunk_81.csv\n",
            "Processed: may_july_chunk_404.csv\n",
            "Processed: may_july_chunk_311.csv\n"
          ]
        },
        {
          "output_type": "stream",
          "name": "stderr",
          "text": [
            "/tmp/ipython-input-2-3775788261.py:15: DtypeWarning: Columns (23) have mixed types. Specify dtype option on import or set low_memory=False.\n",
            "  df = pd.read_csv(path)\n"
          ]
        },
        {
          "output_type": "stream",
          "name": "stdout",
          "text": [
            "Processed: may_july_chunk_408.csv\n",
            "Processed: aug_chunk_111.csv\n"
          ]
        },
        {
          "output_type": "stream",
          "name": "stderr",
          "text": [
            "/tmp/ipython-input-2-3775788261.py:15: DtypeWarning: Columns (23,24,26,27) have mixed types. Specify dtype option on import or set low_memory=False.\n",
            "  df = pd.read_csv(path)\n"
          ]
        },
        {
          "output_type": "stream",
          "name": "stdout",
          "text": [
            "Processed: may_july_chunk_301.csv\n",
            "Processed: aug_chunk_89.csv\n"
          ]
        },
        {
          "output_type": "stream",
          "name": "stderr",
          "text": [
            "/tmp/ipython-input-2-3775788261.py:15: DtypeWarning: Columns (23) have mixed types. Specify dtype option on import or set low_memory=False.\n",
            "  df = pd.read_csv(path)\n"
          ]
        },
        {
          "output_type": "stream",
          "name": "stdout",
          "text": [
            "Processed: may_july_chunk_406.csv\n",
            "Processed: aug_chunk_103.csv\n",
            "Processed: aug_chunk_85.csv\n",
            "Processed: may_july_chunk_315.csv\n",
            "Processed: may_july_chunk_416.csv\n",
            "Processed: aug_chunk_101.csv\n",
            "Processed: aug_chunk_95.csv\n",
            "Processed: may_july_chunk_313.csv\n",
            "Processed: may_july_chunk_420.csv\n",
            "Processed: aug_chunk_105.csv\n",
            "Processed: may_july_chunk_307.csv\n",
            "Processed: may_july_chunk_419.csv\n",
            "Processed: aug_chunk_82.csv\n",
            "Processed: aug_chunk_113.csv\n",
            "Processed: may_july_chunk_303.csv\n",
            "Processed: aug_chunk_99.csv\n",
            "Processed: aug_chunk_107.csv\n",
            "Processed: may_july_chunk_415.csv\n",
            "Processed: aug_chunk_109.csv\n",
            "Processed: aug_chunk_68.csv\n",
            "Processed: aug_chunk_87.csv\n",
            "Processed: may_july_chunk_411.csv\n",
            "Processed: aug_chunk_117.csv\n",
            "Processed: aug_chunk_64.csv\n",
            "Processed: aug_chunk_90.csv\n",
            "Processed: may_july_chunk_375.csv\n"
          ]
        },
        {
          "output_type": "stream",
          "name": "stderr",
          "text": [
            "/tmp/ipython-input-2-3775788261.py:15: DtypeWarning: Columns (23) have mixed types. Specify dtype option on import or set low_memory=False.\n",
            "  df = pd.read_csv(path)\n"
          ]
        },
        {
          "output_type": "stream",
          "name": "stdout",
          "text": [
            "Processed: may_july_chunk_403.csv\n",
            "Processed: aug_chunk_70.csv\n",
            "Processed: aug_chunk_98.csv\n",
            "Processed: may_july_chunk_413.csvProcessed: may_july_chunk_367.csv\n",
            "\n",
            "Processed: aug_chunk_62.csv\n",
            "Processed: aug_chunk_96.csv\n"
          ]
        },
        {
          "output_type": "stream",
          "name": "stderr",
          "text": [
            "/tmp/ipython-input-2-3775788261.py:15: DtypeWarning: Columns (1,6,8,9,22) have mixed types. Specify dtype option on import or set low_memory=False.\n",
            "  df = pd.read_csv(path)\n"
          ]
        },
        {
          "output_type": "stream",
          "name": "stdout",
          "text": [
            "Processed: may_july_chunk_379.csv\n",
            "Processed: aug_chunk_84.csv\n",
            "Processed: aug_chunk_72.csv\n"
          ]
        },
        {
          "output_type": "stream",
          "name": "stderr",
          "text": [
            "/tmp/ipython-input-2-3775788261.py:15: DtypeWarning: Columns (23) have mixed types. Specify dtype option on import or set low_memory=False.\n",
            "  df = pd.read_csv(path)\n"
          ]
        },
        {
          "output_type": "stream",
          "name": "stdout",
          "text": [
            "Processed: may_july_chunk_407.csv\n",
            "Processed: aug_chunk_92.csv\n",
            "Processed: may_july_chunk_361.csv\n",
            "Processed: may_july_chunk_409.csv\n",
            "Processed: aug_chunk_76.csv\n",
            "Processed: aug_chunk_88.csv\n",
            "Processed: aug_chunk_63.csv\n"
          ]
        },
        {
          "output_type": "stream",
          "name": "stderr",
          "text": [
            "/tmp/ipython-input-2-3775788261.py:15: DtypeWarning: Columns (23) have mixed types. Specify dtype option on import or set low_memory=False.\n",
            "  df = pd.read_csv(path)\n"
          ]
        },
        {
          "output_type": "stream",
          "name": "stdout",
          "text": [
            "Processed: may_july_chunk_377.csv\n",
            "Processed: may_july_chunk_405.csv\n",
            "Processed: aug_chunk_94.csv\n",
            "Processed: aug_chunk_80.csv\n",
            "Processed: may_july_chunk_373.csv\n",
            "Processed: may_july_chunk_417.csv\n",
            "Processed: aug_chunk_74.csv\n",
            "Processed: aug_chunk_86.csv\n",
            "Processed: may_july_chunk_369.csv\n",
            "Processed: may_july_chunk_330.csv\n"
          ]
        },
        {
          "output_type": "stream",
          "name": "stderr",
          "text": [
            "/tmp/ipython-input-2-3775788261.py:15: DtypeWarning: Columns (23) have mixed types. Specify dtype option on import or set low_memory=False.\n",
            "  df = pd.read_csv(path)\n"
          ]
        },
        {
          "output_type": "stream",
          "name": "stdout",
          "text": [
            "Processed: may_july_chunk_380.csv\n",
            "Processed: aug_chunk_61.csv\n",
            "Processed: may_july_chunk_93.csv\n",
            "Processed: may_july_chunk_87.csv\n",
            "Processed: may_july_chunk_322.csv\n",
            "Processed: may_july_chunk_365.csv\n",
            "Processed: aug_chunk_66.csv\n",
            "Processed: may_july_chunk_91.csv\n",
            "Processed: may_july_chunk_334.csv\n",
            "Processed: may_july_chunk_378.csv\n",
            "Processed: aug_chunk_78.csv\n",
            "Processed: may_july_chunk_363.csv\n",
            "Processed: aug_chunk_71.csv\n",
            "Processed: may_july_chunk_81.csv\n",
            "Processed: may_july_chunk_332.csv\n",
            "Processed: may_july_chunk_366.csv\n",
            "Processed: aug_chunk_73.csv\n",
            "Processed: may_july_chunk_95.csv\n",
            "Processed: aug_chunk_69.csv\n",
            "Processed: may_july_chunk_326.csv\n",
            "Processed: may_july_chunk_371.csv\n",
            "Processed: may_july_chunk_83.csv\n",
            "Processed: may_july_chunk_374.csv\n",
            "Processed: may_july_chunk_328.csv\n",
            "Processed: aug_chunk_77.csv\n",
            "Processed: may_july_chunk_333.csv\n"
          ]
        },
        {
          "output_type": "stream",
          "name": "stderr",
          "text": [
            "/tmp/ipython-input-2-3775788261.py:15: DtypeWarning: Columns (23,24,26,27) have mixed types. Specify dtype option on import or set low_memory=False.\n",
            "  df = pd.read_csv(path)\n"
          ]
        },
        {
          "output_type": "stream",
          "name": "stdout",
          "text": [
            "Processed: may_july_chunk_376.csv\n",
            "Processed: may_july_chunk_99.csv\n",
            "Processed: aug_chunk_65.csv\n",
            "Processed: may_july_chunk_90.csv\n",
            "Processed: may_july_chunk_336.csv\n",
            "Processed: may_july_chunk_370.csv\n",
            "Processed: aug_chunk_79.csv\n"
          ]
        },
        {
          "output_type": "stream",
          "name": "stderr",
          "text": [
            "/tmp/ipython-input-2-3775788261.py:15: DtypeWarning: Columns (23,24,26,27) have mixed types. Specify dtype option on import or set low_memory=False.\n",
            "  df = pd.read_csv(path)\n"
          ]
        },
        {
          "output_type": "stream",
          "name": "stdout",
          "text": [
            "Processed: may_july_chunk_324.csv\n",
            "Processed: may_july_chunk_92.csv\n",
            "Processed: aug_chunk_67.csv\n"
          ]
        },
        {
          "output_type": "stream",
          "name": "stderr",
          "text": [
            "/tmp/ipython-input-2-3775788261.py:15: DtypeWarning: Columns (6,7,8,9,12,17,22) have mixed types. Specify dtype option on import or set low_memory=False.\n",
            "  df = pd.read_csv(path)\n"
          ]
        },
        {
          "output_type": "stream",
          "name": "stdout",
          "text": [
            "Processed: may_july_chunk_362.csv\n",
            "Processed: may_july_chunk_338.csv\n",
            "Processed: may_july_chunk_89.csv\n",
            "Processed: aug_chunk_75.csv\n",
            "Processed: may_july_chunk_372.csv\n",
            "Processed: may_july_chunk_321.csv\n",
            "Processed: may_july_chunk_82.csv\n",
            "Processed: november_chunk_86.csv\n",
            "Processed: may_july_chunk_331.csv\n",
            "Processed: may_july_chunk_364.csv\n",
            "Processed: november_chunk_94.csv\n",
            "Processed: may_july_chunk_85.csv\n",
            "Processed: november_chunk_88.csv\n",
            "Processed: may_july_chunk_368.csv\n",
            "Processed: may_july_chunk_340.csv\n"
          ]
        },
        {
          "output_type": "stream",
          "name": "stderr",
          "text": [
            "/tmp/ipython-input-2-3775788261.py:15: DtypeWarning: Columns (23,24,26,27) have mixed types. Specify dtype option on import or set low_memory=False.\n",
            "  df = pd.read_csv(path)\n"
          ]
        },
        {
          "output_type": "stream",
          "name": "stdout",
          "text": [
            "Processed: may_july_chunk_97.csv\n",
            "Processed: november_chunk_98.csv\n",
            "Processed: may_july_chunk_339.csv\n",
            "Processed: november_chunk_100.csv\n",
            "Processed: may_july_chunk_189.csv\n",
            "Processed: may_july_chunk_94.csv\n",
            "Processed: may_july_chunk_325.csv\n",
            "Processed: november_chunk_92.csv\n",
            "Processed: may_july_chunk_185.csv\n",
            "Processed: may_july_chunk_327.csv\n",
            "Processed: may_july_chunk_100.csv\n"
          ]
        },
        {
          "output_type": "stream",
          "name": "stderr",
          "text": [
            "/tmp/ipython-input-2-3775788261.py:15: DtypeWarning: Columns (23,24,26,27) have mixed types. Specify dtype option on import or set low_memory=False.\n",
            "  df = pd.read_csv(path)\n"
          ]
        },
        {
          "output_type": "stream",
          "name": "stdout",
          "text": [
            "Processed: may_july_chunk_193.csv\n",
            "Processed: may_july_chunk_335.csv\n",
            "Processed: november_chunk_82.csv\n",
            "Processed: may_july_chunk_183.csv\n"
          ]
        },
        {
          "output_type": "stream",
          "name": "stderr",
          "text": [
            "/tmp/ipython-input-2-3775788261.py:15: DtypeWarning: Columns (23,24,26,27) have mixed types. Specify dtype option on import or set low_memory=False.\n",
            "  df = pd.read_csv(path)\n"
          ]
        },
        {
          "output_type": "stream",
          "name": "stdout",
          "text": [
            "Processed: november_chunk_84.csv\n",
            "Processed: may_july_chunk_191.csv\n",
            "Processed: may_july_chunk_84.csv\n"
          ]
        },
        {
          "output_type": "stream",
          "name": "stderr",
          "text": [
            "/tmp/ipython-input-2-3775788261.py:15: DtypeWarning: Columns (23,24,26,27) have mixed types. Specify dtype option on import or set low_memory=False.\n",
            "  df = pd.read_csv(path)\n"
          ]
        },
        {
          "output_type": "stream",
          "name": "stdout",
          "text": [
            "Processed: may_july_chunk_323.csv\n",
            "Processed: may_july_chunk_96.csv\n",
            "Processed: november_chunk_99.csv\n",
            "Processed: may_july_chunk_197.csv\n"
          ]
        },
        {
          "output_type": "stream",
          "name": "stderr",
          "text": [
            "/tmp/ipython-input-2-3775788261.py:15: DtypeWarning: Columns (8,9,10,11,18,24) have mixed types. Specify dtype option on import or set low_memory=False.\n",
            "  df = pd.read_csv(path)\n"
          ]
        },
        {
          "output_type": "stream",
          "name": "stdout",
          "text": [
            "Processed: november_chunk_90.csv\n",
            "Processed: may_july_chunk_337.csv\n",
            "Processed: may_july_chunk_98.csv\n",
            "Processed: may_july_chunk_199.csv\n",
            "Processed: november_chunk_96.csv\n",
            "Processed: may_july_chunk_329.csv\n",
            "Processed: may_july_chunk_187.csv\n",
            "Processed: may_july_chunk_86.csv\n",
            "Processed: november_chunk_87.csv\n",
            "Processed: november_chunk_81.csv\n",
            "Processed: may_july_chunk_195.csv\n",
            "Processed: may_july_chunk_88.csv\n",
            "Processed: may_july_chunk_200.csv\n",
            "Processed: november_chunk_89.csv\n",
            "Processed: may_july_chunk_308.csv\n",
            "Processed: november_chunk_85.csv\n"
          ]
        },
        {
          "output_type": "stream",
          "name": "stderr",
          "text": [
            "/tmp/ipython-input-2-3775788261.py:15: DtypeWarning: Columns (23,24,26,27) have mixed types. Specify dtype option on import or set low_memory=False.\n",
            "  df = pd.read_csv(path)\n"
          ]
        },
        {
          "output_type": "stream",
          "name": "stdout",
          "text": [
            "Processed: may_july_chunk_196.csv\n",
            "Processed: may_july_chunk_316.csv\n",
            "Processed: may_july_chunk_306.csv\n",
            "Processed: november_chunk_95.csv\n",
            "Processed: may_july_chunk_181.csv\n"
          ]
        },
        {
          "output_type": "stream",
          "name": "stderr",
          "text": [
            "/tmp/ipython-input-2-3775788261.py:15: DtypeWarning: Columns (23,24,26,27) have mixed types. Specify dtype option on import or set low_memory=False.\n",
            "  df = pd.read_csv(path)\n"
          ]
        },
        {
          "output_type": "stream",
          "name": "stdout",
          "text": [
            "Processed: may_july_chunk_194.csv\n",
            "Processed: may_july_chunk_320.csv\n",
            "Processed: november_chunk_97.csv\n",
            "Processed: may_july_chunk_184.csv\n",
            "Processed: november_chunk_83.csv\n",
            "Processed: november_chunk_91.csv\n",
            "Processed: may_july_chunk_188.csv\n",
            "Processed: november_chunk_93.csv\n"
          ]
        },
        {
          "output_type": "stream",
          "name": "stderr",
          "text": [
            "/tmp/ipython-input-2-3775788261.py:15: DtypeWarning: Columns (23) have mixed types. Specify dtype option on import or set low_memory=False.\n",
            "  df = pd.read_csv(path)\n"
          ]
        },
        {
          "output_type": "stream",
          "name": "stdout",
          "text": [
            "Processed: may_july_chunk_198.csv\n",
            "Processed: may_july_chunk_182.csv\n",
            "Processed: may_july_chunk_186.csv\n"
          ]
        },
        {
          "output_type": "stream",
          "name": "stderr",
          "text": [
            "/tmp/ipython-input-2-3775788261.py:15: DtypeWarning: Columns (23,24,26,27) have mixed types. Specify dtype option on import or set low_memory=False.\n",
            "  df = pd.read_csv(path)\n"
          ]
        },
        {
          "output_type": "stream",
          "name": "stdout",
          "text": [
            "Processed: may_july_chunk_190.csv\n",
            "Rows saved: 36780929\n"
          ]
        }
      ]
    }
  ]
}